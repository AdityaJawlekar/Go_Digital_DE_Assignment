{
 "cells": [
  {
   "cell_type": "markdown",
   "metadata": {},
   "source": [
    "# Importing required libraries"
   ]
  },
  {
   "cell_type": "code",
   "execution_count": 1,
   "metadata": {
    "ExecuteTime": {
     "end_time": "2022-08-28T19:04:13.057662Z",
     "start_time": "2022-08-28T19:04:10.257365Z"
    },
    "_cell_guid": "b1076dfc-b9ad-4769-8c92-a6c4dae69d19",
    "_uuid": "8f2839f25d086af736a60e9eeb907d3b93b6e0e5",
    "execution": {
     "iopub.execute_input": "2022-03-25T20:45:10.067789Z",
     "iopub.status.busy": "2022-03-25T20:45:10.066163Z",
     "iopub.status.idle": "2022-03-25T20:45:10.648139Z",
     "shell.execute_reply": "2022-03-25T20:45:10.647050Z",
     "shell.execute_reply.started": "2022-03-25T20:45:10.067682Z"
    }
   },
   "outputs": [],
   "source": [
    "import numpy as np\n",
    "import pandas as pd\n",
    "import seaborn as sns\n",
    "import matplotlib.pyplot as plt\n",
    "%matplotlib inline\n",
    "import warnings\n",
    "warnings.filterwarnings(\"ignore\")"
   ]
  },
  {
   "cell_type": "markdown",
   "metadata": {},
   "source": [
    "# Importing all data sets"
   ]
  },
  {
   "cell_type": "code",
   "execution_count": 2,
   "metadata": {
    "ExecuteTime": {
     "end_time": "2022-08-28T19:04:13.088487Z",
     "start_time": "2022-08-28T19:04:13.057662Z"
    },
    "execution": {
     "iopub.execute_input": "2022-03-25T20:45:10.654342Z",
     "iopub.status.busy": "2022-03-25T20:45:10.653830Z",
     "iopub.status.idle": "2022-03-25T20:45:10.682585Z",
     "shell.execute_reply": "2022-03-25T20:45:10.681641Z",
     "shell.execute_reply.started": "2022-03-25T20:45:10.654291Z"
    }
   },
   "outputs": [],
   "source": [
    "employee_data = pd.read_csv('D:/Study/Data_Engineering/02_Project/04_Go_Digital/Data For Python Assessment/employee_data.csv')"
   ]
  },
  {
   "cell_type": "markdown",
   "metadata": {},
   "source": [
    "# Reading Insurance Dataset"
   ]
  },
  {
   "cell_type": "code",
   "execution_count": 3,
   "metadata": {
    "ExecuteTime": {
     "end_time": "2022-08-28T19:04:13.295426Z",
     "start_time": "2022-08-28T19:04:13.091534Z"
    },
    "execution": {
     "iopub.execute_input": "2022-03-25T20:45:10.684768Z",
     "iopub.status.busy": "2022-03-25T20:45:10.684018Z",
     "iopub.status.idle": "2022-03-25T20:45:10.818921Z",
     "shell.execute_reply": "2022-03-25T20:45:10.817076Z",
     "shell.execute_reply.started": "2022-03-25T20:45:10.684720Z"
    }
   },
   "outputs": [
    {
     "data": {
      "text/html": [
       "<div>\n",
       "<style scoped>\n",
       "    .dataframe tbody tr th:only-of-type {\n",
       "        vertical-align: middle;\n",
       "    }\n",
       "\n",
       "    .dataframe tbody tr th {\n",
       "        vertical-align: top;\n",
       "    }\n",
       "\n",
       "    .dataframe thead th {\n",
       "        text-align: right;\n",
       "    }\n",
       "</style>\n",
       "<table border=\"1\" class=\"dataframe\">\n",
       "  <thead>\n",
       "    <tr style=\"text-align: right;\">\n",
       "      <th></th>\n",
       "      <th>TXN_DATE_TIME</th>\n",
       "      <th>TRANSACTION_ID</th>\n",
       "      <th>CUSTOMER_ID</th>\n",
       "      <th>POLICY_NUMBER</th>\n",
       "      <th>POLICY_EFF_DT</th>\n",
       "      <th>LOSS_DT</th>\n",
       "      <th>REPORT_DT</th>\n",
       "      <th>INSURANCE_TYPE</th>\n",
       "      <th>PREMIUM_AMOUNT</th>\n",
       "      <th>CLAIM_AMOUNT</th>\n",
       "      <th>...</th>\n",
       "      <th>CLAIM_STATUS</th>\n",
       "      <th>INCIDENT_SEVERITY</th>\n",
       "      <th>AUTHORITY_CONTACTED</th>\n",
       "      <th>ANY_INJURY</th>\n",
       "      <th>POLICE_REPORT_AVAILABLE</th>\n",
       "      <th>INCIDENT_STATE</th>\n",
       "      <th>INCIDENT_CITY</th>\n",
       "      <th>INCIDENT_HOUR_OF_THE_DAY</th>\n",
       "      <th>AGENT_ID</th>\n",
       "      <th>VENDOR_ID</th>\n",
       "    </tr>\n",
       "  </thead>\n",
       "  <tbody>\n",
       "    <tr>\n",
       "      <th>0</th>\n",
       "      <td>2020-06-01 00:00:00</td>\n",
       "      <td>TXN00000001</td>\n",
       "      <td>A00003822</td>\n",
       "      <td>PLC00008468</td>\n",
       "      <td>2015-06-23</td>\n",
       "      <td>2020-05-16</td>\n",
       "      <td>2020-05-21</td>\n",
       "      <td>Health</td>\n",
       "      <td>157.13</td>\n",
       "      <td>9000</td>\n",
       "      <td>...</td>\n",
       "      <td>A</td>\n",
       "      <td>Major Loss</td>\n",
       "      <td>Police</td>\n",
       "      <td>0</td>\n",
       "      <td>1</td>\n",
       "      <td>GA</td>\n",
       "      <td>Savannah</td>\n",
       "      <td>4</td>\n",
       "      <td>AGENT00413</td>\n",
       "      <td>VNDR00556</td>\n",
       "    </tr>\n",
       "    <tr>\n",
       "      <th>1</th>\n",
       "      <td>2020-06-01 00:00:00</td>\n",
       "      <td>TXN00000002</td>\n",
       "      <td>A00008149</td>\n",
       "      <td>PLC00009594</td>\n",
       "      <td>2018-04-21</td>\n",
       "      <td>2020-05-13</td>\n",
       "      <td>2020-05-18</td>\n",
       "      <td>Property</td>\n",
       "      <td>141.71</td>\n",
       "      <td>26000</td>\n",
       "      <td>...</td>\n",
       "      <td>A</td>\n",
       "      <td>Total Loss</td>\n",
       "      <td>Ambulance</td>\n",
       "      <td>1</td>\n",
       "      <td>0</td>\n",
       "      <td>AL</td>\n",
       "      <td>Montgomery</td>\n",
       "      <td>0</td>\n",
       "      <td>AGENT00769</td>\n",
       "      <td>VNDR00592</td>\n",
       "    </tr>\n",
       "    <tr>\n",
       "      <th>2</th>\n",
       "      <td>2020-06-01 00:00:00</td>\n",
       "      <td>TXN00000003</td>\n",
       "      <td>A00003172</td>\n",
       "      <td>PLC00007969</td>\n",
       "      <td>2019-10-03</td>\n",
       "      <td>2020-05-21</td>\n",
       "      <td>2020-05-26</td>\n",
       "      <td>Property</td>\n",
       "      <td>157.24</td>\n",
       "      <td>13000</td>\n",
       "      <td>...</td>\n",
       "      <td>A</td>\n",
       "      <td>Total Loss</td>\n",
       "      <td>Police</td>\n",
       "      <td>0</td>\n",
       "      <td>1</td>\n",
       "      <td>CO</td>\n",
       "      <td>Grand Junction</td>\n",
       "      <td>19</td>\n",
       "      <td>AGENT00883</td>\n",
       "      <td>VNDR00031</td>\n",
       "    </tr>\n",
       "    <tr>\n",
       "      <th>3</th>\n",
       "      <td>2020-06-01 00:00:00</td>\n",
       "      <td>TXN00000004</td>\n",
       "      <td>A00007572</td>\n",
       "      <td>PLC00009292</td>\n",
       "      <td>2016-11-29</td>\n",
       "      <td>2020-05-14</td>\n",
       "      <td>2020-05-19</td>\n",
       "      <td>Health</td>\n",
       "      <td>172.87</td>\n",
       "      <td>16000</td>\n",
       "      <td>...</td>\n",
       "      <td>A</td>\n",
       "      <td>Minor Loss</td>\n",
       "      <td>Ambulance</td>\n",
       "      <td>0</td>\n",
       "      <td>0</td>\n",
       "      <td>GA</td>\n",
       "      <td>Savannah</td>\n",
       "      <td>12</td>\n",
       "      <td>AGENT00278</td>\n",
       "      <td>VNDR00075</td>\n",
       "    </tr>\n",
       "    <tr>\n",
       "      <th>4</th>\n",
       "      <td>2020-06-01 00:00:00</td>\n",
       "      <td>TXN00000005</td>\n",
       "      <td>A00008173</td>\n",
       "      <td>PLC00000204</td>\n",
       "      <td>2011-12-26</td>\n",
       "      <td>2020-05-17</td>\n",
       "      <td>2020-05-22</td>\n",
       "      <td>Travel</td>\n",
       "      <td>88.53</td>\n",
       "      <td>3000</td>\n",
       "      <td>...</td>\n",
       "      <td>A</td>\n",
       "      <td>Major Loss</td>\n",
       "      <td>Police</td>\n",
       "      <td>0</td>\n",
       "      <td>1</td>\n",
       "      <td>TN</td>\n",
       "      <td>Nashville</td>\n",
       "      <td>18</td>\n",
       "      <td>AGENT00636</td>\n",
       "      <td>VNDR00472</td>\n",
       "    </tr>\n",
       "    <tr>\n",
       "      <th>...</th>\n",
       "      <td>...</td>\n",
       "      <td>...</td>\n",
       "      <td>...</td>\n",
       "      <td>...</td>\n",
       "      <td>...</td>\n",
       "      <td>...</td>\n",
       "      <td>...</td>\n",
       "      <td>...</td>\n",
       "      <td>...</td>\n",
       "      <td>...</td>\n",
       "      <td>...</td>\n",
       "      <td>...</td>\n",
       "      <td>...</td>\n",
       "      <td>...</td>\n",
       "      <td>...</td>\n",
       "      <td>...</td>\n",
       "      <td>...</td>\n",
       "      <td>...</td>\n",
       "      <td>...</td>\n",
       "      <td>...</td>\n",
       "      <td>...</td>\n",
       "    </tr>\n",
       "    <tr>\n",
       "      <th>9995</th>\n",
       "      <td>2021-06-30 00:00:00</td>\n",
       "      <td>TXN00009996</td>\n",
       "      <td>A00006029</td>\n",
       "      <td>PLC00007245</td>\n",
       "      <td>2014-04-11</td>\n",
       "      <td>2021-06-25</td>\n",
       "      <td>2021-06-26</td>\n",
       "      <td>Motor</td>\n",
       "      <td>105.75</td>\n",
       "      <td>1000</td>\n",
       "      <td>...</td>\n",
       "      <td>A</td>\n",
       "      <td>Minor Loss</td>\n",
       "      <td>Ambulance</td>\n",
       "      <td>1</td>\n",
       "      <td>1</td>\n",
       "      <td>CT</td>\n",
       "      <td>Manchester</td>\n",
       "      <td>0</td>\n",
       "      <td>AGENT00779</td>\n",
       "      <td>NaN</td>\n",
       "    </tr>\n",
       "    <tr>\n",
       "      <th>9996</th>\n",
       "      <td>2021-06-30 00:00:00</td>\n",
       "      <td>TXN00009997</td>\n",
       "      <td>A00003555</td>\n",
       "      <td>PLC00002590</td>\n",
       "      <td>2015-08-25</td>\n",
       "      <td>2021-06-12</td>\n",
       "      <td>2021-06-17</td>\n",
       "      <td>Life</td>\n",
       "      <td>64.59</td>\n",
       "      <td>67000</td>\n",
       "      <td>...</td>\n",
       "      <td>A</td>\n",
       "      <td>Total Loss</td>\n",
       "      <td>Police</td>\n",
       "      <td>1</td>\n",
       "      <td>0</td>\n",
       "      <td>MA</td>\n",
       "      <td>Worcester</td>\n",
       "      <td>6</td>\n",
       "      <td>AGENT00254</td>\n",
       "      <td>VNDR00598</td>\n",
       "    </tr>\n",
       "    <tr>\n",
       "      <th>9997</th>\n",
       "      <td>2021-06-30 00:00:00</td>\n",
       "      <td>TXN00009998</td>\n",
       "      <td>A00004230</td>\n",
       "      <td>PLC00006613</td>\n",
       "      <td>2018-10-11</td>\n",
       "      <td>2021-06-18</td>\n",
       "      <td>2021-06-23</td>\n",
       "      <td>Health</td>\n",
       "      <td>183.50</td>\n",
       "      <td>8000</td>\n",
       "      <td>...</td>\n",
       "      <td>A</td>\n",
       "      <td>Major Loss</td>\n",
       "      <td>None</td>\n",
       "      <td>1</td>\n",
       "      <td>1</td>\n",
       "      <td>OK</td>\n",
       "      <td>Oklahoma City</td>\n",
       "      <td>12</td>\n",
       "      <td>AGENT00786</td>\n",
       "      <td>VNDR00104</td>\n",
       "    </tr>\n",
       "    <tr>\n",
       "      <th>9998</th>\n",
       "      <td>2021-06-30 00:00:00</td>\n",
       "      <td>TXN00009999</td>\n",
       "      <td>A00006694</td>\n",
       "      <td>PLC00001781</td>\n",
       "      <td>2016-01-29</td>\n",
       "      <td>2021-06-16</td>\n",
       "      <td>2021-06-21</td>\n",
       "      <td>Motor</td>\n",
       "      <td>113.46</td>\n",
       "      <td>2000</td>\n",
       "      <td>...</td>\n",
       "      <td>A</td>\n",
       "      <td>Total Loss</td>\n",
       "      <td>Ambulance</td>\n",
       "      <td>0</td>\n",
       "      <td>1</td>\n",
       "      <td>AR</td>\n",
       "      <td>Fayetteville</td>\n",
       "      <td>6</td>\n",
       "      <td>AGENT00927</td>\n",
       "      <td>VNDR00185</td>\n",
       "    </tr>\n",
       "    <tr>\n",
       "      <th>9999</th>\n",
       "      <td>2021-06-30 00:00:00</td>\n",
       "      <td>TXN00010000</td>\n",
       "      <td>A00000390</td>\n",
       "      <td>PLC00005197</td>\n",
       "      <td>2014-09-17</td>\n",
       "      <td>2021-06-21</td>\n",
       "      <td>2021-06-24</td>\n",
       "      <td>Mobile</td>\n",
       "      <td>8.22</td>\n",
       "      <td>300</td>\n",
       "      <td>...</td>\n",
       "      <td>A</td>\n",
       "      <td>Total Loss</td>\n",
       "      <td>Ambulance</td>\n",
       "      <td>1</td>\n",
       "      <td>0</td>\n",
       "      <td>CT</td>\n",
       "      <td>Manchester</td>\n",
       "      <td>13</td>\n",
       "      <td>AGENT00118</td>\n",
       "      <td>VNDR00163</td>\n",
       "    </tr>\n",
       "  </tbody>\n",
       "</table>\n",
       "<p>10000 rows × 38 columns</p>\n",
       "</div>"
      ],
      "text/plain": [
       "            TXN_DATE_TIME TRANSACTION_ID CUSTOMER_ID POLICY_NUMBER  \\\n",
       "0     2020-06-01 00:00:00    TXN00000001   A00003822   PLC00008468   \n",
       "1     2020-06-01 00:00:00    TXN00000002   A00008149   PLC00009594   \n",
       "2     2020-06-01 00:00:00    TXN00000003   A00003172   PLC00007969   \n",
       "3     2020-06-01 00:00:00    TXN00000004   A00007572   PLC00009292   \n",
       "4     2020-06-01 00:00:00    TXN00000005   A00008173   PLC00000204   \n",
       "...                   ...            ...         ...           ...   \n",
       "9995  2021-06-30 00:00:00    TXN00009996   A00006029   PLC00007245   \n",
       "9996  2021-06-30 00:00:00    TXN00009997   A00003555   PLC00002590   \n",
       "9997  2021-06-30 00:00:00    TXN00009998   A00004230   PLC00006613   \n",
       "9998  2021-06-30 00:00:00    TXN00009999   A00006694   PLC00001781   \n",
       "9999  2021-06-30 00:00:00    TXN00010000   A00000390   PLC00005197   \n",
       "\n",
       "     POLICY_EFF_DT     LOSS_DT   REPORT_DT INSURANCE_TYPE  PREMIUM_AMOUNT  \\\n",
       "0       2015-06-23  2020-05-16  2020-05-21         Health          157.13   \n",
       "1       2018-04-21  2020-05-13  2020-05-18       Property          141.71   \n",
       "2       2019-10-03  2020-05-21  2020-05-26       Property          157.24   \n",
       "3       2016-11-29  2020-05-14  2020-05-19         Health          172.87   \n",
       "4       2011-12-26  2020-05-17  2020-05-22         Travel           88.53   \n",
       "...            ...         ...         ...            ...             ...   \n",
       "9995    2014-04-11  2021-06-25  2021-06-26          Motor          105.75   \n",
       "9996    2015-08-25  2021-06-12  2021-06-17           Life           64.59   \n",
       "9997    2018-10-11  2021-06-18  2021-06-23         Health          183.50   \n",
       "9998    2016-01-29  2021-06-16  2021-06-21          Motor          113.46   \n",
       "9999    2014-09-17  2021-06-21  2021-06-24         Mobile            8.22   \n",
       "\n",
       "      CLAIM_AMOUNT  ... CLAIM_STATUS INCIDENT_SEVERITY AUTHORITY_CONTACTED  \\\n",
       "0             9000  ...            A        Major Loss              Police   \n",
       "1            26000  ...            A        Total Loss           Ambulance   \n",
       "2            13000  ...            A        Total Loss              Police   \n",
       "3            16000  ...            A        Minor Loss           Ambulance   \n",
       "4             3000  ...            A        Major Loss              Police   \n",
       "...            ...  ...          ...               ...                 ...   \n",
       "9995          1000  ...            A        Minor Loss           Ambulance   \n",
       "9996         67000  ...            A        Total Loss              Police   \n",
       "9997          8000  ...            A        Major Loss                None   \n",
       "9998          2000  ...            A        Total Loss           Ambulance   \n",
       "9999           300  ...            A        Total Loss           Ambulance   \n",
       "\n",
       "     ANY_INJURY POLICE_REPORT_AVAILABLE  INCIDENT_STATE   INCIDENT_CITY  \\\n",
       "0             0                       1              GA        Savannah   \n",
       "1             1                       0              AL      Montgomery   \n",
       "2             0                       1              CO  Grand Junction   \n",
       "3             0                       0              GA        Savannah   \n",
       "4             0                       1              TN       Nashville   \n",
       "...         ...                     ...             ...             ...   \n",
       "9995          1                       1              CT      Manchester   \n",
       "9996          1                       0              MA       Worcester   \n",
       "9997          1                       1              OK   Oklahoma City   \n",
       "9998          0                       1              AR    Fayetteville   \n",
       "9999          1                       0              CT      Manchester   \n",
       "\n",
       "     INCIDENT_HOUR_OF_THE_DAY    AGENT_ID  VENDOR_ID  \n",
       "0                           4  AGENT00413  VNDR00556  \n",
       "1                           0  AGENT00769  VNDR00592  \n",
       "2                          19  AGENT00883  VNDR00031  \n",
       "3                          12  AGENT00278  VNDR00075  \n",
       "4                          18  AGENT00636  VNDR00472  \n",
       "...                       ...         ...        ...  \n",
       "9995                        0  AGENT00779        NaN  \n",
       "9996                        6  AGENT00254  VNDR00598  \n",
       "9997                       12  AGENT00786  VNDR00104  \n",
       "9998                        6  AGENT00927  VNDR00185  \n",
       "9999                       13  AGENT00118  VNDR00163  \n",
       "\n",
       "[10000 rows x 38 columns]"
      ]
     },
     "execution_count": 3,
     "metadata": {},
     "output_type": "execute_result"
    }
   ],
   "source": [
    "insurance_data = pd.read_csv('D:/Study/Data_Engineering/02_Project/04_Go_Digital/Data For Python Assessment/insurance_data.csv')\n",
    "insurance_data"
   ]
  },
  {
   "cell_type": "markdown",
   "metadata": {},
   "source": [
    "# Reading Vendor Dataset"
   ]
  },
  {
   "cell_type": "code",
   "execution_count": 4,
   "metadata": {
    "ExecuteTime": {
     "end_time": "2022-08-28T19:04:13.326409Z",
     "start_time": "2022-08-28T19:04:13.300411Z"
    },
    "execution": {
     "iopub.execute_input": "2022-03-25T20:45:10.822805Z",
     "iopub.status.busy": "2022-03-25T20:45:10.821853Z",
     "iopub.status.idle": "2022-03-25T20:45:10.841403Z",
     "shell.execute_reply": "2022-03-25T20:45:10.840658Z",
     "shell.execute_reply.started": "2022-03-25T20:45:10.822758Z"
    }
   },
   "outputs": [],
   "source": [
    "vendor_data = pd.read_csv('D:/Study/Data_Engineering/02_Project/04_Go_Digital/Data For Python Assessment/vendor_data.csv')"
   ]
  },
  {
   "cell_type": "markdown",
   "metadata": {},
   "source": [
    "# Task 1 -\n",
    "## Merge the 3 dataset and create 1 view of data"
   ]
  },
  {
   "cell_type": "markdown",
   "metadata": {},
   "source": [
    "### a) Merging Insurance and Employee Datasets on 'AGENT_ID' column"
   ]
  },
  {
   "cell_type": "code",
   "execution_count": 5,
   "metadata": {
    "ExecuteTime": {
     "end_time": "2022-08-28T19:04:13.516988Z",
     "start_time": "2022-08-28T19:04:13.329337Z"
    },
    "execution": {
     "iopub.execute_input": "2022-03-25T20:45:10.842933Z",
     "iopub.status.busy": "2022-03-25T20:45:10.842548Z",
     "iopub.status.idle": "2022-03-25T20:45:10.951907Z",
     "shell.execute_reply": "2022-03-25T20:45:10.951150Z",
     "shell.execute_reply.started": "2022-03-25T20:45:10.842903Z"
    }
   },
   "outputs": [],
   "source": [
    "merge_1 = pd.merge(right = insurance_data,\n",
    "                   left = employee_data, \n",
    "                   right_on = 'AGENT_ID', \n",
    "                   left_on = 'AGENT_ID',\n",
    "                   how = \"inner\")"
   ]
  },
  {
   "cell_type": "markdown",
   "metadata": {},
   "source": [
    "### b) Merging Insurance and Vendor Datasets on 'VENDOR_ID' column"
   ]
  },
  {
   "cell_type": "code",
   "execution_count": 6,
   "metadata": {
    "ExecuteTime": {
     "end_time": "2022-08-28T19:04:13.612767Z",
     "start_time": "2022-08-28T19:04:13.519825Z"
    },
    "execution": {
     "iopub.execute_input": "2022-03-25T20:45:10.953596Z",
     "iopub.status.busy": "2022-03-25T20:45:10.953191Z",
     "iopub.status.idle": "2022-03-25T20:45:11.034583Z",
     "shell.execute_reply": "2022-03-25T20:45:11.033474Z",
     "shell.execute_reply.started": "2022-03-25T20:45:10.953551Z"
    }
   },
   "outputs": [],
   "source": [
    "merge_2 = pd.merge(right = insurance_data,\n",
    "                   left = vendor_data, \n",
    "                   right_on = \"VENDOR_ID\", \n",
    "                   left_on = \"VENDOR_ID\",\n",
    "                   how = \"inner\")"
   ]
  },
  {
   "cell_type": "markdown",
   "metadata": {},
   "source": [
    "### c) Final dataset by meging all datasets"
   ]
  },
  {
   "cell_type": "code",
   "execution_count": 7,
   "metadata": {
    "ExecuteTime": {
     "end_time": "2022-08-28T19:04:13.755719Z",
     "start_time": "2022-08-28T19:04:13.615764Z"
    },
    "execution": {
     "iopub.execute_input": "2022-03-25T20:45:11.036229Z",
     "iopub.status.busy": "2022-03-25T20:45:11.035858Z",
     "iopub.status.idle": "2022-03-25T20:45:11.146845Z",
     "shell.execute_reply": "2022-03-25T20:45:11.146004Z",
     "shell.execute_reply.started": "2022-03-25T20:45:11.036199Z"
    },
    "scrolled": true
   },
   "outputs": [
    {
     "data": {
      "text/html": [
       "<div>\n",
       "<style scoped>\n",
       "    .dataframe tbody tr th:only-of-type {\n",
       "        vertical-align: middle;\n",
       "    }\n",
       "\n",
       "    .dataframe tbody tr th {\n",
       "        vertical-align: top;\n",
       "    }\n",
       "\n",
       "    .dataframe thead th {\n",
       "        text-align: right;\n",
       "    }\n",
       "</style>\n",
       "<table border=\"1\" class=\"dataframe\">\n",
       "  <thead>\n",
       "    <tr style=\"text-align: right;\">\n",
       "      <th></th>\n",
       "      <th>VENDOR_ID</th>\n",
       "      <th>VENDOR_NAME</th>\n",
       "      <th>ADDRESS_LINE1</th>\n",
       "      <th>ADDRESS_LINE2</th>\n",
       "      <th>CITY</th>\n",
       "      <th>STATE</th>\n",
       "      <th>POSTAL_CODE</th>\n",
       "      <th>AGENT_ID</th>\n",
       "      <th>AGENT_NAME</th>\n",
       "      <th>DATE_OF_JOINING</th>\n",
       "      <th>...</th>\n",
       "      <th>ACCT_NUMBER</th>\n",
       "      <th>CUSTOMER_EDUCATION_LEVEL</th>\n",
       "      <th>CLAIM_STATUS</th>\n",
       "      <th>INCIDENT_SEVERITY</th>\n",
       "      <th>AUTHORITY_CONTACTED</th>\n",
       "      <th>ANY_INJURY</th>\n",
       "      <th>POLICE_REPORT_AVAILABLE</th>\n",
       "      <th>INCIDENT_STATE</th>\n",
       "      <th>INCIDENT_CITY</th>\n",
       "      <th>INCIDENT_HOUR_OF_THE_DAY</th>\n",
       "    </tr>\n",
       "  </thead>\n",
       "  <tbody>\n",
       "    <tr>\n",
       "      <th>0</th>\n",
       "      <td>VNDR00001</td>\n",
       "      <td>King, Proctor and Jones</td>\n",
       "      <td>2027 North Shannon Drive</td>\n",
       "      <td>#5</td>\n",
       "      <td>Fayetteville</td>\n",
       "      <td>AR</td>\n",
       "      <td>72703</td>\n",
       "      <td>AGENT00038</td>\n",
       "      <td>Harold Ward</td>\n",
       "      <td>1993-01-24</td>\n",
       "      <td>...</td>\n",
       "      <td>SVPG73064432886887</td>\n",
       "      <td>Masters</td>\n",
       "      <td>D</td>\n",
       "      <td>Major Loss</td>\n",
       "      <td>Ambulance</td>\n",
       "      <td>1</td>\n",
       "      <td>1</td>\n",
       "      <td>MA</td>\n",
       "      <td>Everett</td>\n",
       "      <td>20</td>\n",
       "    </tr>\n",
       "    <tr>\n",
       "      <th>1</th>\n",
       "      <td>VNDR00001</td>\n",
       "      <td>King, Proctor and Jones</td>\n",
       "      <td>2027 North Shannon Drive</td>\n",
       "      <td>#5</td>\n",
       "      <td>Fayetteville</td>\n",
       "      <td>AR</td>\n",
       "      <td>72703</td>\n",
       "      <td>AGENT00045</td>\n",
       "      <td>Frances Melia</td>\n",
       "      <td>2001-03-09</td>\n",
       "      <td>...</td>\n",
       "      <td>FVND87325813310909</td>\n",
       "      <td>High School</td>\n",
       "      <td>A</td>\n",
       "      <td>Total Loss</td>\n",
       "      <td>Other</td>\n",
       "      <td>1</td>\n",
       "      <td>1</td>\n",
       "      <td>CO</td>\n",
       "      <td>Arvada</td>\n",
       "      <td>23</td>\n",
       "    </tr>\n",
       "    <tr>\n",
       "      <th>2</th>\n",
       "      <td>VNDR00001</td>\n",
       "      <td>King, Proctor and Jones</td>\n",
       "      <td>2027 North Shannon Drive</td>\n",
       "      <td>#5</td>\n",
       "      <td>Fayetteville</td>\n",
       "      <td>AR</td>\n",
       "      <td>72703</td>\n",
       "      <td>AGENT00052</td>\n",
       "      <td>Evelyn Mckinney</td>\n",
       "      <td>2018-05-02</td>\n",
       "      <td>...</td>\n",
       "      <td>QTRG22676440012886</td>\n",
       "      <td>Masters</td>\n",
       "      <td>A</td>\n",
       "      <td>Minor Loss</td>\n",
       "      <td>Ambulance</td>\n",
       "      <td>1</td>\n",
       "      <td>1</td>\n",
       "      <td>AL</td>\n",
       "      <td>Montgomery</td>\n",
       "      <td>12</td>\n",
       "    </tr>\n",
       "    <tr>\n",
       "      <th>3</th>\n",
       "      <td>VNDR00001</td>\n",
       "      <td>King, Proctor and Jones</td>\n",
       "      <td>2027 North Shannon Drive</td>\n",
       "      <td>#5</td>\n",
       "      <td>Fayetteville</td>\n",
       "      <td>AR</td>\n",
       "      <td>72703</td>\n",
       "      <td>AGENT00128</td>\n",
       "      <td>Richard Kessler</td>\n",
       "      <td>1998-01-03</td>\n",
       "      <td>...</td>\n",
       "      <td>EHBI65797557112163</td>\n",
       "      <td>Masters</td>\n",
       "      <td>A</td>\n",
       "      <td>Minor Loss</td>\n",
       "      <td>Other</td>\n",
       "      <td>1</td>\n",
       "      <td>1</td>\n",
       "      <td>CT</td>\n",
       "      <td>Manchester</td>\n",
       "      <td>0</td>\n",
       "    </tr>\n",
       "    <tr>\n",
       "      <th>4</th>\n",
       "      <td>VNDR00001</td>\n",
       "      <td>King, Proctor and Jones</td>\n",
       "      <td>2027 North Shannon Drive</td>\n",
       "      <td>#5</td>\n",
       "      <td>Fayetteville</td>\n",
       "      <td>AR</td>\n",
       "      <td>72703</td>\n",
       "      <td>AGENT00142</td>\n",
       "      <td>Leland Low</td>\n",
       "      <td>2016-07-01</td>\n",
       "      <td>...</td>\n",
       "      <td>ZDII00910040159814</td>\n",
       "      <td>High School</td>\n",
       "      <td>A</td>\n",
       "      <td>Total Loss</td>\n",
       "      <td>Police</td>\n",
       "      <td>1</td>\n",
       "      <td>0</td>\n",
       "      <td>AR</td>\n",
       "      <td>Fayetteville</td>\n",
       "      <td>14</td>\n",
       "    </tr>\n",
       "  </tbody>\n",
       "</table>\n",
       "<p>5 rows × 53 columns</p>\n",
       "</div>"
      ],
      "text/plain": [
       "   VENDOR_ID              VENDOR_NAME             ADDRESS_LINE1 ADDRESS_LINE2  \\\n",
       "0  VNDR00001  King, Proctor and Jones  2027 North Shannon Drive            #5   \n",
       "1  VNDR00001  King, Proctor and Jones  2027 North Shannon Drive            #5   \n",
       "2  VNDR00001  King, Proctor and Jones  2027 North Shannon Drive            #5   \n",
       "3  VNDR00001  King, Proctor and Jones  2027 North Shannon Drive            #5   \n",
       "4  VNDR00001  King, Proctor and Jones  2027 North Shannon Drive            #5   \n",
       "\n",
       "           CITY STATE  POSTAL_CODE    AGENT_ID       AGENT_NAME  \\\n",
       "0  Fayetteville    AR        72703  AGENT00038      Harold Ward   \n",
       "1  Fayetteville    AR        72703  AGENT00045    Frances Melia   \n",
       "2  Fayetteville    AR        72703  AGENT00052  Evelyn Mckinney   \n",
       "3  Fayetteville    AR        72703  AGENT00128  Richard Kessler   \n",
       "4  Fayetteville    AR        72703  AGENT00142       Leland Low   \n",
       "\n",
       "  DATE_OF_JOINING  ...         ACCT_NUMBER CUSTOMER_EDUCATION_LEVEL  \\\n",
       "0      1993-01-24  ...  SVPG73064432886887                  Masters   \n",
       "1      2001-03-09  ...  FVND87325813310909              High School   \n",
       "2      2018-05-02  ...  QTRG22676440012886                  Masters   \n",
       "3      1998-01-03  ...  EHBI65797557112163                  Masters   \n",
       "4      2016-07-01  ...  ZDII00910040159814              High School   \n",
       "\n",
       "  CLAIM_STATUS INCIDENT_SEVERITY  AUTHORITY_CONTACTED  ANY_INJURY  \\\n",
       "0            D        Major Loss            Ambulance           1   \n",
       "1            A        Total Loss                Other           1   \n",
       "2            A        Minor Loss            Ambulance           1   \n",
       "3            A        Minor Loss                Other           1   \n",
       "4            A        Total Loss               Police           1   \n",
       "\n",
       "  POLICE_REPORT_AVAILABLE INCIDENT_STATE INCIDENT_CITY  \\\n",
       "0                       1             MA       Everett   \n",
       "1                       1             CO        Arvada   \n",
       "2                       1             AL    Montgomery   \n",
       "3                       1             CT    Manchester   \n",
       "4                       0             AR  Fayetteville   \n",
       "\n",
       "  INCIDENT_HOUR_OF_THE_DAY  \n",
       "0                       20  \n",
       "1                       23  \n",
       "2                       12  \n",
       "3                        0  \n",
       "4                       14  \n",
       "\n",
       "[5 rows x 53 columns]"
      ]
     },
     "execution_count": 7,
     "metadata": {},
     "output_type": "execute_result"
    }
   ],
   "source": [
    "final_data = pd.merge(right = merge_1,\n",
    "                   left = vendor_data, \n",
    "                   right_on = \"VENDOR_ID\", \n",
    "                   left_on = \"VENDOR_ID\",\n",
    "                   how = \"inner\")\n",
    "\n",
    "final_data.head()"
   ]
  },
  {
   "cell_type": "markdown",
   "metadata": {},
   "source": [
    "# ---------------------------------------------------------------------------------------------------------------"
   ]
  },
  {
   "cell_type": "markdown",
   "metadata": {},
   "source": [
    "# Task 2 - \n",
    "## Business Leader wants to find Top 3 Insurance Type where we are getting most insurance claims"
   ]
  },
  {
   "cell_type": "code",
   "execution_count": 8,
   "metadata": {
    "ExecuteTime": {
     "end_time": "2022-08-28T19:04:14.089128Z",
     "start_time": "2022-08-28T19:04:13.760703Z"
    },
    "execution": {
     "iopub.execute_input": "2022-03-25T20:45:11.148432Z",
     "iopub.status.busy": "2022-03-25T20:45:11.148029Z",
     "iopub.status.idle": "2022-03-25T20:45:11.163100Z",
     "shell.execute_reply": "2022-03-25T20:45:11.161874Z",
     "shell.execute_reply.started": "2022-03-25T20:45:11.148400Z"
    }
   },
   "outputs": [
    {
     "name": "stdout",
     "output_type": "stream",
     "text": [
      "  INSURANCE_TYPE  CLAIM_STATUS\n",
      "2         Mobile          1692\n",
      "4       Property          1692\n",
      "0         Health          1690\n",
      "1           Life          1682\n",
      "5         Travel          1670\n",
      "3          Motor          1574\n"
     ]
    },
    {
     "data": {
      "image/png": "[encoded data removed]",
      "text/plain": [
       "<Figure size 576x360 with 1 Axes>"
      ]
     },
     "metadata": {
      "needs_background": "light"
     },
     "output_type": "display_data"
    }
   ],
   "source": [
    "top_insurance_type = (insurance_data.groupby(by = 'INSURANCE_TYPE', sort= 'CLAIM_STATUS')['CLAIM_STATUS'].count().reset_index())\n",
    "\n",
    "top_insurance_type = top_insurance_type.sort_values(by = ['CLAIM_STATUS'], ascending=False)\n",
    "\n",
    "print(top_insurance_type)\n",
    "\n",
    "plt.figure(figsize=(8, 5))\n",
    "\n",
    "barplot = plt.bar(x= top_insurance_type['INSURANCE_TYPE'],\n",
    "                  height= top_insurance_type['CLAIM_STATUS'],\n",
    "                  fc= 'lightgray', ec= 'black')\n",
    "plt.title(' Highest Insurance Claims By Insurance Type')\n",
    "plt.xlabel('Insurance Type')\n",
    "plt.ylabel('Total Claims')\n",
    "plt.bar_label(barplot, labels= top_insurance_type['CLAIM_STATUS'], label_type= 'center')\n",
    "plt.show()"
   ]
  },
  {
   "cell_type": "markdown",
   "metadata": {},
   "source": [
    "### From above result we can say that Mobile, Property and Health this are tope 3 insurance type with 1692, 1692 and 1690 claims respectively.\n",
    "# -------------------------------------------------------------------------------------------------------------"
   ]
  },
  {
   "cell_type": "markdown",
   "metadata": {},
   "source": [
    "# Task 3 - \n",
    "## Business Leader wants to find Top 5 States where we are getting most insurance claims for customer belonging to HIGH(H) risk segment"
   ]
  },
  {
   "cell_type": "code",
   "execution_count": 9,
   "metadata": {
    "ExecuteTime": {
     "end_time": "2022-08-28T19:04:14.485998Z",
     "start_time": "2022-08-28T19:04:14.094112Z"
    },
    "execution": {
     "iopub.execute_input": "2022-03-25T20:45:11.165640Z",
     "iopub.status.busy": "2022-03-25T20:45:11.165041Z",
     "iopub.status.idle": "2022-03-25T20:45:11.184474Z",
     "shell.execute_reply": "2022-03-25T20:45:11.183485Z",
     "shell.execute_reply.started": "2022-03-25T20:45:11.165589Z"
    }
   },
   "outputs": [
    {
     "name": "stdout",
     "output_type": "stream",
     "text": [
      "   STATE  CLAIM_STATUS\n",
      "4     CA           148\n",
      "3     AZ           105\n",
      "8     FL           104\n",
      "14    TN           100\n",
      "2     AR            97\n",
      "5     CO            95\n",
      "6     CT            92\n",
      "7     DC            92\n",
      "9     GA            88\n",
      "1     AL            86\n",
      "15    VT            83\n",
      "11    MA            81\n",
      "10    KY            76\n",
      "12    MD            76\n",
      "0     AK            66\n",
      "13    OK            66\n"
     ]
    },
    {
     "data": {
      "image/png": "[encoded data removed]",
      "text/plain": [
       "<Figure size 1080x360 with 1 Axes>"
      ]
     },
     "metadata": {
      "needs_background": "light"
     },
     "output_type": "display_data"
    }
   ],
   "source": [
    "risk_data = insurance_data[insurance_data.RISK_SEGMENTATION == 'H']\n",
    "top_risk_state = risk_data.groupby(by = 'STATE')['CLAIM_STATUS'].count().reset_index()\n",
    "top_risk_state = top_risk_state.sort_values(by= ['CLAIM_STATUS'], ascending=False)\n",
    "print(top_risk_state)\n",
    "\n",
    "plt.figure(figsize=(15, 5))\n",
    "barplot = plt.bar(x= top_risk_state['STATE'],\n",
    "                  height= top_risk_state['CLAIM_STATUS'],\n",
    "                  fc= 'lightgray', ec= 'black')\n",
    "plt.title('Highest Insurance Claims By States')\n",
    "plt.xlabel('States')\n",
    "plt.ylabel('Total Claims')\n",
    "plt.bar_label(barplot, labels= top_insurance_type['CLAIM_STATUS'], label_type= 'center')\n",
    "plt.show()"
   ]
  },
  {
   "cell_type": "markdown",
   "metadata": {},
   "source": [
    "### From above data frame we can conclude that California, Arizona, Florida, Tenneessee and and Arkansas this are top 5 states with the highest claims.\n",
    "# --------------------------------------------------------------------------------------------------------------"
   ]
  },
  {
   "cell_type": "markdown",
   "metadata": {},
   "source": [
    "# Task 4 - \n",
    "## Business wants to create a new variable “COLOCATION” which will have following values IF Customer State == Incident State == Agent Address State THEN 1 ELSE O. Find the mean of this new column"
   ]
  },
  {
   "cell_type": "code",
   "execution_count": 10,
   "metadata": {
    "ExecuteTime": {
     "end_time": "2022-08-28T19:04:14.533869Z",
     "start_time": "2022-08-28T19:04:14.488992Z"
    },
    "execution": {
     "iopub.execute_input": "2022-03-25T20:45:11.187497Z",
     "iopub.status.busy": "2022-03-25T20:45:11.186642Z",
     "iopub.status.idle": "2022-03-25T20:45:11.223239Z",
     "shell.execute_reply": "2022-03-25T20:45:11.222068Z",
     "shell.execute_reply.started": "2022-03-25T20:45:11.187442Z"
    }
   },
   "outputs": [
    {
     "data": {
      "text/html": [
       "<div>\n",
       "<style scoped>\n",
       "    .dataframe tbody tr th:only-of-type {\n",
       "        vertical-align: middle;\n",
       "    }\n",
       "\n",
       "    .dataframe tbody tr th {\n",
       "        vertical-align: top;\n",
       "    }\n",
       "\n",
       "    .dataframe thead th {\n",
       "        text-align: right;\n",
       "    }\n",
       "</style>\n",
       "<table border=\"1\" class=\"dataframe\">\n",
       "  <thead>\n",
       "    <tr style=\"text-align: right;\">\n",
       "      <th></th>\n",
       "      <th>STATE_x</th>\n",
       "      <th>INCIDENT_STATE</th>\n",
       "      <th>STATE_y</th>\n",
       "      <th>COLOCATION</th>\n",
       "    </tr>\n",
       "  </thead>\n",
       "  <tbody>\n",
       "    <tr>\n",
       "      <th>0</th>\n",
       "      <td>GA</td>\n",
       "      <td>MA</td>\n",
       "      <td>CA</td>\n",
       "      <td>0</td>\n",
       "    </tr>\n",
       "    <tr>\n",
       "      <th>1</th>\n",
       "      <td>GA</td>\n",
       "      <td>CO</td>\n",
       "      <td>AZ</td>\n",
       "      <td>0</td>\n",
       "    </tr>\n",
       "    <tr>\n",
       "      <th>2</th>\n",
       "      <td>CT</td>\n",
       "      <td>AL</td>\n",
       "      <td>MD</td>\n",
       "      <td>0</td>\n",
       "    </tr>\n",
       "    <tr>\n",
       "      <th>3</th>\n",
       "      <td>CA</td>\n",
       "      <td>CT</td>\n",
       "      <td>FL</td>\n",
       "      <td>0</td>\n",
       "    </tr>\n",
       "    <tr>\n",
       "      <th>4</th>\n",
       "      <td>CO</td>\n",
       "      <td>AR</td>\n",
       "      <td>CA</td>\n",
       "      <td>0</td>\n",
       "    </tr>\n",
       "  </tbody>\n",
       "</table>\n",
       "</div>"
      ],
      "text/plain": [
       "  STATE_x INCIDENT_STATE STATE_y  COLOCATION\n",
       "0      GA             MA      CA           0\n",
       "1      GA             CO      AZ           0\n",
       "2      CT             AL      MD           0\n",
       "3      CA             CT      FL           0\n",
       "4      CO             AR      CA           0"
      ]
     },
     "execution_count": 10,
     "metadata": {},
     "output_type": "execute_result"
    }
   ],
   "source": [
    "#code to create new column 'COLOCATION' as per given condition.\n",
    "colocation = [(final_data['STATE_x'] == final_data['INCIDENT_STATE']) & (final_data['STATE_x'] == final_data['STATE_y'])]\n",
    "value = [1]\n",
    "final_data['COLOCATION']=np.select(colocation,value)\n",
    "\n",
    "colocation_data = final_data.filter(['STATE_x', 'INCIDENT_STATE', 'STATE_y', 'COLOCATION']).copy()\n",
    "colocation_data.head()"
   ]
  },
  {
   "cell_type": "code",
   "execution_count": 11,
   "metadata": {
    "ExecuteTime": {
     "end_time": "2022-08-28T19:04:14.581752Z",
     "start_time": "2022-08-28T19:04:14.536861Z"
    },
    "execution": {
     "iopub.execute_input": "2022-03-25T20:45:11.252614Z",
     "iopub.status.busy": "2022-03-25T20:45:11.252308Z",
     "iopub.status.idle": "2022-03-25T20:45:11.259529Z",
     "shell.execute_reply": "2022-03-25T20:45:11.258135Z",
     "shell.execute_reply.started": "2022-03-25T20:45:11.252543Z"
    }
   },
   "outputs": [
    {
     "name": "stdout",
     "output_type": "stream",
     "text": [
      "Colocation mean :  0.004293116210214656\n"
     ]
    }
   ],
   "source": [
    "colocation_mean = final_data['COLOCATION'].mean()\n",
    "print('Colocation mean : ', colocation_mean)"
   ]
  },
  {
   "cell_type": "markdown",
   "metadata": {},
   "source": [
    "### From above data frame we can see that colocation value is '0' if all state are not same. And mean is 0.00429.\n",
    "# -------------------------------------------------------------------------------------------------------------"
   ]
  },
  {
   "cell_type": "markdown",
   "metadata": {},
   "source": [
    "# Task 5 -\n",
    "## Data entry error was detected in the data and you are required to correct it. If for any claim transaction AUTHORITY_CONTACTED” is NOT “Police” and POLICE_AVAILABLE == 1 Then Update “AUTHORITY_CONTACTED” to Police."
   ]
  },
  {
   "cell_type": "code",
   "execution_count": 12,
   "metadata": {
    "ExecuteTime": {
     "end_time": "2022-08-28T19:04:14.660088Z",
     "start_time": "2022-08-28T19:04:14.585731Z"
    },
    "execution": {
     "iopub.execute_input": "2022-03-25T20:45:11.263511Z",
     "iopub.status.busy": "2022-03-25T20:45:11.263111Z",
     "iopub.status.idle": "2022-03-25T20:45:11.300415Z",
     "shell.execute_reply": "2022-03-25T20:45:11.299421Z",
     "shell.execute_reply.started": "2022-03-25T20:45:11.263472Z"
    }
   },
   "outputs": [
    {
     "data": {
      "text/html": [
       "<div>\n",
       "<style scoped>\n",
       "    .dataframe tbody tr th:only-of-type {\n",
       "        vertical-align: middle;\n",
       "    }\n",
       "\n",
       "    .dataframe tbody tr th {\n",
       "        vertical-align: top;\n",
       "    }\n",
       "\n",
       "    .dataframe thead th {\n",
       "        text-align: right;\n",
       "    }\n",
       "</style>\n",
       "<table border=\"1\" class=\"dataframe\">\n",
       "  <thead>\n",
       "    <tr style=\"text-align: right;\">\n",
       "      <th></th>\n",
       "      <th>VENDOR_ID</th>\n",
       "      <th>VENDOR_NAME</th>\n",
       "      <th>ADDRESS_LINE1</th>\n",
       "      <th>ADDRESS_LINE2</th>\n",
       "      <th>CITY</th>\n",
       "      <th>STATE</th>\n",
       "      <th>POSTAL_CODE</th>\n",
       "      <th>AGENT_ID</th>\n",
       "      <th>AGENT_NAME</th>\n",
       "      <th>DATE_OF_JOINING</th>\n",
       "      <th>...</th>\n",
       "      <th>CUSTOMER_EDUCATION_LEVEL</th>\n",
       "      <th>CLAIM_STATUS</th>\n",
       "      <th>INCIDENT_SEVERITY</th>\n",
       "      <th>AUTHORITY_CONTACTED</th>\n",
       "      <th>ANY_INJURY</th>\n",
       "      <th>POLICE_REPORT_AVAILABLE</th>\n",
       "      <th>INCIDENT_STATE</th>\n",
       "      <th>INCIDENT_CITY</th>\n",
       "      <th>INCIDENT_HOUR_OF_THE_DAY</th>\n",
       "      <th>COLOCATION</th>\n",
       "    </tr>\n",
       "  </thead>\n",
       "  <tbody>\n",
       "    <tr>\n",
       "      <th>0</th>\n",
       "      <td>VNDR00001</td>\n",
       "      <td>King, Proctor and Jones</td>\n",
       "      <td>2027 North Shannon Drive</td>\n",
       "      <td>#5</td>\n",
       "      <td>Fayetteville</td>\n",
       "      <td>AR</td>\n",
       "      <td>72703</td>\n",
       "      <td>AGENT00038</td>\n",
       "      <td>Harold Ward</td>\n",
       "      <td>1993-01-24</td>\n",
       "      <td>...</td>\n",
       "      <td>Masters</td>\n",
       "      <td>D</td>\n",
       "      <td>Major Loss</td>\n",
       "      <td>Police</td>\n",
       "      <td>1</td>\n",
       "      <td>1</td>\n",
       "      <td>MA</td>\n",
       "      <td>Everett</td>\n",
       "      <td>20</td>\n",
       "      <td>0</td>\n",
       "    </tr>\n",
       "    <tr>\n",
       "      <th>1</th>\n",
       "      <td>VNDR00001</td>\n",
       "      <td>King, Proctor and Jones</td>\n",
       "      <td>2027 North Shannon Drive</td>\n",
       "      <td>#5</td>\n",
       "      <td>Fayetteville</td>\n",
       "      <td>AR</td>\n",
       "      <td>72703</td>\n",
       "      <td>AGENT00045</td>\n",
       "      <td>Frances Melia</td>\n",
       "      <td>2001-03-09</td>\n",
       "      <td>...</td>\n",
       "      <td>High School</td>\n",
       "      <td>A</td>\n",
       "      <td>Total Loss</td>\n",
       "      <td>Police</td>\n",
       "      <td>1</td>\n",
       "      <td>1</td>\n",
       "      <td>CO</td>\n",
       "      <td>Arvada</td>\n",
       "      <td>23</td>\n",
       "      <td>0</td>\n",
       "    </tr>\n",
       "    <tr>\n",
       "      <th>2</th>\n",
       "      <td>VNDR00001</td>\n",
       "      <td>King, Proctor and Jones</td>\n",
       "      <td>2027 North Shannon Drive</td>\n",
       "      <td>#5</td>\n",
       "      <td>Fayetteville</td>\n",
       "      <td>AR</td>\n",
       "      <td>72703</td>\n",
       "      <td>AGENT00052</td>\n",
       "      <td>Evelyn Mckinney</td>\n",
       "      <td>2018-05-02</td>\n",
       "      <td>...</td>\n",
       "      <td>Masters</td>\n",
       "      <td>A</td>\n",
       "      <td>Minor Loss</td>\n",
       "      <td>Police</td>\n",
       "      <td>1</td>\n",
       "      <td>1</td>\n",
       "      <td>AL</td>\n",
       "      <td>Montgomery</td>\n",
       "      <td>12</td>\n",
       "      <td>0</td>\n",
       "    </tr>\n",
       "    <tr>\n",
       "      <th>3</th>\n",
       "      <td>VNDR00001</td>\n",
       "      <td>King, Proctor and Jones</td>\n",
       "      <td>2027 North Shannon Drive</td>\n",
       "      <td>#5</td>\n",
       "      <td>Fayetteville</td>\n",
       "      <td>AR</td>\n",
       "      <td>72703</td>\n",
       "      <td>AGENT00128</td>\n",
       "      <td>Richard Kessler</td>\n",
       "      <td>1998-01-03</td>\n",
       "      <td>...</td>\n",
       "      <td>Masters</td>\n",
       "      <td>A</td>\n",
       "      <td>Minor Loss</td>\n",
       "      <td>Police</td>\n",
       "      <td>1</td>\n",
       "      <td>1</td>\n",
       "      <td>CT</td>\n",
       "      <td>Manchester</td>\n",
       "      <td>0</td>\n",
       "      <td>0</td>\n",
       "    </tr>\n",
       "    <tr>\n",
       "      <th>4</th>\n",
       "      <td>VNDR00001</td>\n",
       "      <td>King, Proctor and Jones</td>\n",
       "      <td>2027 North Shannon Drive</td>\n",
       "      <td>#5</td>\n",
       "      <td>Fayetteville</td>\n",
       "      <td>AR</td>\n",
       "      <td>72703</td>\n",
       "      <td>AGENT00142</td>\n",
       "      <td>Leland Low</td>\n",
       "      <td>2016-07-01</td>\n",
       "      <td>...</td>\n",
       "      <td>High School</td>\n",
       "      <td>A</td>\n",
       "      <td>Total Loss</td>\n",
       "      <td>Police</td>\n",
       "      <td>1</td>\n",
       "      <td>0</td>\n",
       "      <td>AR</td>\n",
       "      <td>Fayetteville</td>\n",
       "      <td>14</td>\n",
       "      <td>0</td>\n",
       "    </tr>\n",
       "  </tbody>\n",
       "</table>\n",
       "<p>5 rows × 54 columns</p>\n",
       "</div>"
      ],
      "text/plain": [
       "   VENDOR_ID              VENDOR_NAME             ADDRESS_LINE1 ADDRESS_LINE2  \\\n",
       "0  VNDR00001  King, Proctor and Jones  2027 North Shannon Drive            #5   \n",
       "1  VNDR00001  King, Proctor and Jones  2027 North Shannon Drive            #5   \n",
       "2  VNDR00001  King, Proctor and Jones  2027 North Shannon Drive            #5   \n",
       "3  VNDR00001  King, Proctor and Jones  2027 North Shannon Drive            #5   \n",
       "4  VNDR00001  King, Proctor and Jones  2027 North Shannon Drive            #5   \n",
       "\n",
       "           CITY STATE  POSTAL_CODE    AGENT_ID       AGENT_NAME  \\\n",
       "0  Fayetteville    AR        72703  AGENT00038      Harold Ward   \n",
       "1  Fayetteville    AR        72703  AGENT00045    Frances Melia   \n",
       "2  Fayetteville    AR        72703  AGENT00052  Evelyn Mckinney   \n",
       "3  Fayetteville    AR        72703  AGENT00128  Richard Kessler   \n",
       "4  Fayetteville    AR        72703  AGENT00142       Leland Low   \n",
       "\n",
       "  DATE_OF_JOINING  ... CUSTOMER_EDUCATION_LEVEL CLAIM_STATUS  \\\n",
       "0      1993-01-24  ...                  Masters            D   \n",
       "1      2001-03-09  ...              High School            A   \n",
       "2      2018-05-02  ...                  Masters            A   \n",
       "3      1998-01-03  ...                  Masters            A   \n",
       "4      2016-07-01  ...              High School            A   \n",
       "\n",
       "  INCIDENT_SEVERITY AUTHORITY_CONTACTED  ANY_INJURY  POLICE_REPORT_AVAILABLE  \\\n",
       "0        Major Loss              Police           1                        1   \n",
       "1        Total Loss              Police           1                        1   \n",
       "2        Minor Loss              Police           1                        1   \n",
       "3        Minor Loss              Police           1                        1   \n",
       "4        Total Loss              Police           1                        0   \n",
       "\n",
       "  INCIDENT_STATE INCIDENT_CITY INCIDENT_HOUR_OF_THE_DAY COLOCATION  \n",
       "0             MA       Everett                       20          0  \n",
       "1             CO        Arvada                       23          0  \n",
       "2             AL    Montgomery                       12          0  \n",
       "3             CT    Manchester                        0          0  \n",
       "4             AR  Fayetteville                       14          0  \n",
       "\n",
       "[5 rows x 54 columns]"
      ]
     },
     "execution_count": 12,
     "metadata": {},
     "output_type": "execute_result"
    }
   ],
   "source": [
    "final_data.loc[(final_data['AUTHORITY_CONTACTED'] != 'POLICE') & (final_data['POLICE_REPORT_AVAILABLE'] == 1), \n",
    "               'AUTHORITY_CONTACTED'] = 'Police'\n",
    "final_data.head()"
   ]
  },
  {
   "cell_type": "markdown",
   "metadata": {},
   "source": [
    "# -------------------------------------------------------------------------------------------------------------"
   ]
  },
  {
   "cell_type": "markdown",
   "metadata": {},
   "source": [
    "# Task 6 -\n",
    "## Business wants to check the Claim Amount for deviation for each transaction, they would like you to calculate as follow            CLAIM_DEVIATION = AVG_CLAIM_AMOUNT_FOR_LAST_30DAYS (same insurance type) / CURRENT_CLAIM_AMOUNT. If the value < 0.5 THEN CLAIM_DEVIATION = 1 ELSE 0. If there is less than 30 days of transaction history THEN -1 Note: LAST_30DAYS does not include current day"
   ]
  },
  {
   "cell_type": "code",
   "execution_count": 13,
   "metadata": {
    "ExecuteTime": {
     "end_time": "2022-08-28T19:04:14.692040Z",
     "start_time": "2022-08-28T19:04:14.663081Z"
    }
   },
   "outputs": [],
   "source": [
    "df = insurance_data[(insurance_data['TXN_DATE_TIME'] >= '2021-06-01 00:00')\n",
    "                   & (insurance_data['TXN_DATE_TIME'] < '2021-06-31 00:00')]\n",
    "\n",
    "total_claim_amount = pd.DataFrame(df.groupby(by = 'INSURANCE_TYPE', sort= 'CLAIM_AMOUNT')['CLAIM_AMOUNT'].sum().reset_index())\n",
    "total_claim_count = pd.DataFrame(df.groupby(by = 'INSURANCE_TYPE', sort= 'CLAIM_AMOUNT')['CLAIM_AMOUNT'].count().reset_index())\n",
    "avg_claim_amount = (total_claim_amount['CLAIM_AMOUNT']) / (total_claim_count['CLAIM_AMOUNT'])"
   ]
  },
  {
   "cell_type": "code",
   "execution_count": 14,
   "metadata": {
    "ExecuteTime": {
     "end_time": "2022-08-28T19:04:14.850397Z",
     "start_time": "2022-08-28T19:04:14.696990Z"
    }
   },
   "outputs": [
    {
     "data": {
      "text/html": [
       "<div>\n",
       "<style scoped>\n",
       "    .dataframe tbody tr th:only-of-type {\n",
       "        vertical-align: middle;\n",
       "    }\n",
       "\n",
       "    .dataframe tbody tr th {\n",
       "        vertical-align: top;\n",
       "    }\n",
       "\n",
       "    .dataframe thead th {\n",
       "        text-align: right;\n",
       "    }\n",
       "</style>\n",
       "<table border=\"1\" class=\"dataframe\">\n",
       "  <thead>\n",
       "    <tr style=\"text-align: right;\">\n",
       "      <th></th>\n",
       "      <th>TXN_DATE_TIME</th>\n",
       "      <th>TRANSACTION_ID</th>\n",
       "      <th>CUSTOMER_ID</th>\n",
       "      <th>INSURANCE_TYPE</th>\n",
       "      <th>CLAIM_AMOUNT</th>\n",
       "      <th>AVG_CLAIM_AMOUNT</th>\n",
       "      <th>CLAIM_DEVIATION</th>\n",
       "    </tr>\n",
       "  </thead>\n",
       "  <tbody>\n",
       "    <tr>\n",
       "      <th>0</th>\n",
       "      <td>2020-06-01 00:00:00</td>\n",
       "      <td>TXN00000001</td>\n",
       "      <td>A00003822</td>\n",
       "      <td>Health</td>\n",
       "      <td>9000</td>\n",
       "      <td>10984.96</td>\n",
       "      <td>0</td>\n",
       "    </tr>\n",
       "    <tr>\n",
       "      <th>1</th>\n",
       "      <td>2020-06-01 00:00:00</td>\n",
       "      <td>TXN00000004</td>\n",
       "      <td>A00007572</td>\n",
       "      <td>Health</td>\n",
       "      <td>16000</td>\n",
       "      <td>10984.96</td>\n",
       "      <td>0</td>\n",
       "    </tr>\n",
       "    <tr>\n",
       "      <th>2</th>\n",
       "      <td>2020-06-01 00:00:00</td>\n",
       "      <td>TXN00000007</td>\n",
       "      <td>A00007245</td>\n",
       "      <td>Health</td>\n",
       "      <td>3000</td>\n",
       "      <td>10984.96</td>\n",
       "      <td>0</td>\n",
       "    </tr>\n",
       "    <tr>\n",
       "      <th>3</th>\n",
       "      <td>2020-06-01 00:00:00</td>\n",
       "      <td>TXN00000013</td>\n",
       "      <td>A00003693</td>\n",
       "      <td>Health</td>\n",
       "      <td>11000</td>\n",
       "      <td>10984.96</td>\n",
       "      <td>0</td>\n",
       "    </tr>\n",
       "    <tr>\n",
       "      <th>4</th>\n",
       "      <td>2020-06-01 00:00:00</td>\n",
       "      <td>TXN00000021</td>\n",
       "      <td>A00004720</td>\n",
       "      <td>Health</td>\n",
       "      <td>17000</td>\n",
       "      <td>10984.96</td>\n",
       "      <td>0</td>\n",
       "    </tr>\n",
       "  </tbody>\n",
       "</table>\n",
       "</div>"
      ],
      "text/plain": [
       "         TXN_DATE_TIME TRANSACTION_ID CUSTOMER_ID INSURANCE_TYPE  \\\n",
       "0  2020-06-01 00:00:00    TXN00000001   A00003822         Health   \n",
       "1  2020-06-01 00:00:00    TXN00000004   A00007572         Health   \n",
       "2  2020-06-01 00:00:00    TXN00000007   A00007245         Health   \n",
       "3  2020-06-01 00:00:00    TXN00000013   A00003693         Health   \n",
       "4  2020-06-01 00:00:00    TXN00000021   A00004720         Health   \n",
       "\n",
       "   CLAIM_AMOUNT  AVG_CLAIM_AMOUNT  CLAIM_DEVIATION  \n",
       "0          9000          10984.96                0  \n",
       "1         16000          10984.96                0  \n",
       "2          3000          10984.96                0  \n",
       "3         11000          10984.96                0  \n",
       "4         17000          10984.96                0  "
      ]
     },
     "execution_count": 14,
     "metadata": {},
     "output_type": "execute_result"
    }
   ],
   "source": [
    "avg_claim = pd.merge(right = total_claim_amount,\n",
    "                   left = total_claim_count, \n",
    "                   right_on = 'INSURANCE_TYPE', \n",
    "                   left_on = 'INSURANCE_TYPE',\n",
    "                   how = \"inner\")\n",
    "\n",
    "avg_claim.rename(columns= {'CLAIM_AMOUNT_x' : 'TOTAL_CLAIM_COUNT', 'CLAIM_AMOUNT_y' : 'TOTAL_CLAIM_AMOUNT'}, inplace= True)\n",
    "avg_claim['AVG_CLAIM_AMOUNT'] = ((avg_claim['TOTAL_CLAIM_AMOUNT']) / (avg_claim['TOTAL_CLAIM_COUNT']))\n",
    "avg_claim.drop('TOTAL_CLAIM_COUNT', inplace= True, axis= 1)\n",
    "avg_claim.drop('TOTAL_CLAIM_AMOUNT', inplace= True, axis= 1)\n",
    "\n",
    "claim_deviation = pd.merge(right = insurance_data,\n",
    "                   left = avg_claim, \n",
    "                   right_on = 'INSURANCE_TYPE', \n",
    "                   left_on = 'INSURANCE_TYPE',\n",
    "                   how = \"inner\")\n",
    "claim_deviation = claim_deviation[['TXN_DATE_TIME','TRANSACTION_ID','CUSTOMER_ID',\n",
    "                                   'INSURANCE_TYPE','CLAIM_AMOUNT','AVG_CLAIM_AMOUNT']]\n",
    "claim_deviation['CLAIM_DEVIATION'] = ((claim_deviation['AVG_CLAIM_AMOUNT']) / (claim_deviation['CLAIM_AMOUNT']))\n",
    "claim_deviation = claim_deviation.round(2)\n",
    "\n",
    "CLAIM_DEVIATION_1 = [(claim_deviation['CLAIM_DEVIATION'] < 0.5)]\n",
    "value = [1]\n",
    "claim_deviation['CLAIM_DEVIATION']=np.select(CLAIM_DEVIATION_1,value)\n",
    "\n",
    "claim_deviation.head()"
   ]
  },
  {
   "cell_type": "markdown",
   "metadata": {},
   "source": [
    "# --------------------------------------------------------------------------------------------------------------"
   ]
  },
  {
   "cell_type": "markdown",
   "metadata": {},
   "source": [
    "# Task 7 - \n",
    "## Find All Agents who have worked on more than 2 types of Insurance Claims. Sort them by Total Claim Amount Approved under them in descending order"
   ]
  },
  {
   "cell_type": "code",
   "execution_count": 15,
   "metadata": {
    "ExecuteTime": {
     "end_time": "2022-08-28T19:04:14.898232Z",
     "start_time": "2022-08-28T19:04:14.853354Z"
    },
    "execution": {
     "iopub.execute_input": "2022-03-25T20:45:11.302114Z",
     "iopub.status.busy": "2022-03-25T20:45:11.301773Z",
     "iopub.status.idle": "2022-03-25T20:45:11.337458Z",
     "shell.execute_reply": "2022-03-25T20:45:11.336670Z",
     "shell.execute_reply.started": "2022-03-25T20:45:11.302068Z"
    },
    "scrolled": true
   },
   "outputs": [
    {
     "data": {
      "text/html": [
       "<div>\n",
       "<style scoped>\n",
       "    .dataframe tbody tr th:only-of-type {\n",
       "        vertical-align: middle;\n",
       "    }\n",
       "\n",
       "    .dataframe tbody tr th {\n",
       "        vertical-align: top;\n",
       "    }\n",
       "\n",
       "    .dataframe thead th {\n",
       "        text-align: right;\n",
       "    }\n",
       "</style>\n",
       "<table border=\"1\" class=\"dataframe\">\n",
       "  <thead>\n",
       "    <tr style=\"text-align: right;\">\n",
       "      <th></th>\n",
       "      <th>AGENT_NAME</th>\n",
       "      <th>CLAIM_AMOUNT</th>\n",
       "      <th>INSURANCE_TYPE</th>\n",
       "    </tr>\n",
       "  </thead>\n",
       "  <tbody>\n",
       "    <tr>\n",
       "      <th>2182</th>\n",
       "      <td>Glenda Briney</td>\n",
       "      <td>20000</td>\n",
       "      <td>3</td>\n",
       "    </tr>\n",
       "    <tr>\n",
       "      <th>2953</th>\n",
       "      <td>John Martin</td>\n",
       "      <td>20000</td>\n",
       "      <td>3</td>\n",
       "    </tr>\n",
       "    <tr>\n",
       "      <th>34</th>\n",
       "      <td>Agnes Alsip</td>\n",
       "      <td>15000</td>\n",
       "      <td>3</td>\n",
       "    </tr>\n",
       "    <tr>\n",
       "      <th>2025</th>\n",
       "      <td>Gabriel Lucas</td>\n",
       "      <td>14000</td>\n",
       "      <td>3</td>\n",
       "    </tr>\n",
       "    <tr>\n",
       "      <th>576</th>\n",
       "      <td>Bobbie Burwell</td>\n",
       "      <td>12000</td>\n",
       "      <td>3</td>\n",
       "    </tr>\n",
       "  </tbody>\n",
       "</table>\n",
       "</div>"
      ],
      "text/plain": [
       "          AGENT_NAME  CLAIM_AMOUNT  INSURANCE_TYPE\n",
       "2182   Glenda Briney         20000               3\n",
       "2953     John Martin         20000               3\n",
       "34       Agnes Alsip         15000               3\n",
       "2025   Gabriel Lucas         14000               3\n",
       "576   Bobbie Burwell         12000               3"
      ]
     },
     "execution_count": 15,
     "metadata": {},
     "output_type": "execute_result"
    }
   ],
   "source": [
    "agents_data = pd.DataFrame(final_data.groupby(['AGENT_NAME','CLAIM_AMOUNT'])['INSURANCE_TYPE'].count().reset_index().\n",
    "                           sort_values('CLAIM_AMOUNT',ascending=False))\n",
    "\n",
    "agents_data = agents_data[agents_data['INSURANCE_TYPE'] > 2]\n",
    "\n",
    "agents_data.head()"
   ]
  },
  {
   "cell_type": "markdown",
   "metadata": {},
   "source": [
    "# -------------------------------------------------------------------------------------------------------------"
   ]
  },
  {
   "cell_type": "markdown",
   "metadata": {},
   "source": [
    "# Task 8 - \n",
    "## Mobile & Travel Insurance premium are discounted by 10%, Health and Property Insurance premium are increased by 7%, Life and Motor Insurance premium are marginally increased by 2%. What will be overall change in % of the Premium Amount Collected for all these Customer"
   ]
  },
  {
   "cell_type": "code",
   "execution_count": 16,
   "metadata": {
    "ExecuteTime": {
     "end_time": "2022-08-28T19:04:14.930147Z",
     "start_time": "2022-08-28T19:04:14.903221Z"
    },
    "execution": {
     "iopub.execute_input": "2022-03-25T20:45:11.339036Z",
     "iopub.status.busy": "2022-03-25T20:45:11.338793Z",
     "iopub.status.idle": "2022-03-25T20:45:11.353229Z",
     "shell.execute_reply": "2022-03-25T20:45:11.352473Z",
     "shell.execute_reply.started": "2022-03-25T20:45:11.339007Z"
    }
   },
   "outputs": [
    {
     "data": {
      "text/html": [
       "<div>\n",
       "<style scoped>\n",
       "    .dataframe tbody tr th:only-of-type {\n",
       "        vertical-align: middle;\n",
       "    }\n",
       "\n",
       "    .dataframe tbody tr th {\n",
       "        vertical-align: top;\n",
       "    }\n",
       "\n",
       "    .dataframe thead th {\n",
       "        text-align: right;\n",
       "    }\n",
       "</style>\n",
       "<table border=\"1\" class=\"dataframe\">\n",
       "  <thead>\n",
       "    <tr style=\"text-align: right;\">\n",
       "      <th></th>\n",
       "      <th>PREMIUM_AMOUNT</th>\n",
       "    </tr>\n",
       "    <tr>\n",
       "      <th>INSURANCE_TYPE</th>\n",
       "      <th></th>\n",
       "    </tr>\n",
       "  </thead>\n",
       "  <tbody>\n",
       "    <tr>\n",
       "      <th>Health</th>\n",
       "      <td>168515.90</td>\n",
       "    </tr>\n",
       "    <tr>\n",
       "      <th>Life</th>\n",
       "      <td>85624.88</td>\n",
       "    </tr>\n",
       "    <tr>\n",
       "      <th>Mobile</th>\n",
       "      <td>10308.58</td>\n",
       "    </tr>\n",
       "    <tr>\n",
       "      <th>Motor</th>\n",
       "      <td>114052.48</td>\n",
       "    </tr>\n",
       "    <tr>\n",
       "      <th>Property</th>\n",
       "      <td>133258.61</td>\n",
       "    </tr>\n",
       "    <tr>\n",
       "      <th>Travel</th>\n",
       "      <td>84219.63</td>\n",
       "    </tr>\n",
       "  </tbody>\n",
       "</table>\n",
       "</div>"
      ],
      "text/plain": [
       "                PREMIUM_AMOUNT\n",
       "INSURANCE_TYPE                \n",
       "Health               168515.90\n",
       "Life                  85624.88\n",
       "Mobile                10308.58\n",
       "Motor                114052.48\n",
       "Property             133258.61\n",
       "Travel                84219.63"
      ]
     },
     "execution_count": 16,
     "metadata": {},
     "output_type": "execute_result"
    }
   ],
   "source": [
    "pd.DataFrame(final_data.groupby(['INSURANCE_TYPE'])['PREMIUM_AMOUNT'].sum())"
   ]
  },
  {
   "cell_type": "code",
   "execution_count": 17,
   "metadata": {
    "ExecuteTime": {
     "end_time": "2022-08-28T19:04:14.962100Z",
     "start_time": "2022-08-28T19:04:14.935134Z"
    },
    "execution": {
     "iopub.execute_input": "2022-03-25T20:45:11.354840Z",
     "iopub.status.busy": "2022-03-25T20:45:11.354555Z",
     "iopub.status.idle": "2022-03-25T20:45:11.372912Z",
     "shell.execute_reply": "2022-03-25T20:45:11.371867Z",
     "shell.execute_reply.started": "2022-03-25T20:45:11.354803Z"
    }
   },
   "outputs": [
    {
     "name": "stdout",
     "output_type": "stream",
     "text": [
      "Total premium amount :  595980.08\n"
     ]
    }
   ],
   "source": [
    "total_premium = final_data['PREMIUM_AMOUNT'].sum()\n",
    "print('Total premium amount : ', total_premium)"
   ]
  },
  {
   "cell_type": "code",
   "execution_count": 18,
   "metadata": {
    "ExecuteTime": {
     "end_time": "2022-08-28T19:04:15.025931Z",
     "start_time": "2022-08-28T19:04:14.966050Z"
    },
    "execution": {
     "iopub.execute_input": "2022-03-25T20:45:11.374675Z",
     "iopub.status.busy": "2022-03-25T20:45:11.374365Z",
     "iopub.status.idle": "2022-03-25T20:45:11.398858Z",
     "shell.execute_reply": "2022-03-25T20:45:11.397835Z",
     "shell.execute_reply.started": "2022-03-25T20:45:11.374641Z"
    }
   },
   "outputs": [
    {
     "data": {
      "text/html": [
       "<div>\n",
       "<style scoped>\n",
       "    .dataframe tbody tr th:only-of-type {\n",
       "        vertical-align: middle;\n",
       "    }\n",
       "\n",
       "    .dataframe tbody tr th {\n",
       "        vertical-align: top;\n",
       "    }\n",
       "\n",
       "    .dataframe thead th {\n",
       "        text-align: right;\n",
       "    }\n",
       "</style>\n",
       "<table border=\"1\" class=\"dataframe\">\n",
       "  <thead>\n",
       "    <tr style=\"text-align: right;\">\n",
       "      <th></th>\n",
       "      <th>INSURANCE_TYPE</th>\n",
       "      <th>OLD_PREMIUM_AMOUNT</th>\n",
       "      <th>OLD_PERSENTAGE</th>\n",
       "    </tr>\n",
       "  </thead>\n",
       "  <tbody>\n",
       "    <tr>\n",
       "      <th>0</th>\n",
       "      <td>Health</td>\n",
       "      <td>168515.90</td>\n",
       "      <td>28.275425</td>\n",
       "    </tr>\n",
       "    <tr>\n",
       "      <th>1</th>\n",
       "      <td>Life</td>\n",
       "      <td>85624.88</td>\n",
       "      <td>14.367071</td>\n",
       "    </tr>\n",
       "    <tr>\n",
       "      <th>2</th>\n",
       "      <td>Mobile</td>\n",
       "      <td>10308.58</td>\n",
       "      <td>1.729685</td>\n",
       "    </tr>\n",
       "    <tr>\n",
       "      <th>3</th>\n",
       "      <td>Motor</td>\n",
       "      <td>114052.48</td>\n",
       "      <td>19.136962</td>\n",
       "    </tr>\n",
       "    <tr>\n",
       "      <th>4</th>\n",
       "      <td>Property</td>\n",
       "      <td>133258.61</td>\n",
       "      <td>22.359575</td>\n",
       "    </tr>\n",
       "    <tr>\n",
       "      <th>5</th>\n",
       "      <td>Travel</td>\n",
       "      <td>84219.63</td>\n",
       "      <td>14.131283</td>\n",
       "    </tr>\n",
       "  </tbody>\n",
       "</table>\n",
       "</div>"
      ],
      "text/plain": [
       "  INSURANCE_TYPE  OLD_PREMIUM_AMOUNT  OLD_PERSENTAGE\n",
       "0         Health           168515.90       28.275425\n",
       "1           Life            85624.88       14.367071\n",
       "2         Mobile            10308.58        1.729685\n",
       "3          Motor           114052.48       19.136962\n",
       "4       Property           133258.61       22.359575\n",
       "5         Travel            84219.63       14.131283"
      ]
     },
     "execution_count": 18,
     "metadata": {},
     "output_type": "execute_result"
    }
   ],
   "source": [
    "new_premium = pd.DataFrame()\n",
    "\n",
    "new_premium['INSURANCE_TYPE'] = ['Health','Life','Mobile','Motor','Property','Travel']\n",
    "\n",
    "new_premium['OLD_PREMIUM_AMOUNT'] = [168515.90, 85624.88, 10308.58, 114052.48, 133258.61, 84219.63]\n",
    "\n",
    "new_premium['OLD_PERSENTAGE'] = (new_premium['OLD_PREMIUM_AMOUNT'] / total_premium) * 100\n",
    "\n",
    "new_premium"
   ]
  },
  {
   "cell_type": "markdown",
   "metadata": {},
   "source": [
    "### According to old premium structure,\n",
    "* Mobile and Travel insurance type hold 15.86% of total.\n",
    "* Health and Property insurance type hold 50.63% of total.\n",
    "* Life and Motor insurance type hold 33.50% of total."
   ]
  },
  {
   "cell_type": "markdown",
   "metadata": {},
   "source": [
    "### Now, calculating as per new premium structure -\n",
    "* Mobile & Travel Insurance premium are discounted by 10%\n",
    "* Health and Property Insurance premium are increased by 7%\n",
    "* Life and Motor Insurance premium are marginally increased by 2%\n"
   ]
  },
  {
   "cell_type": "code",
   "execution_count": 19,
   "metadata": {
    "ExecuteTime": {
     "end_time": "2022-08-28T19:04:15.056811Z",
     "start_time": "2022-08-28T19:04:15.030878Z"
    },
    "execution": {
     "iopub.execute_input": "2022-03-25T20:45:11.401205Z",
     "iopub.status.busy": "2022-03-25T20:45:11.400876Z",
     "iopub.status.idle": "2022-03-25T20:45:11.413128Z",
     "shell.execute_reply": "2022-03-25T20:45:11.411915Z",
     "shell.execute_reply.started": "2022-03-25T20:45:11.401161Z"
    }
   },
   "outputs": [],
   "source": [
    "new_mobile_premium = (10308.58 * 10) / 100\n",
    "\n",
    "new_travel_premium = (84219.63 * 10) / 100\n",
    "\n",
    "new_health_premium = (168515.90 * 7) / 100\n",
    "\n",
    "new_property_premium = (133258.61 * 7) / 100\n",
    "\n",
    "new_life_premium = (85624.88 * 2) / 100\n",
    "\n",
    "new_motor_premium = (114052.48 * 2) / 100"
   ]
  },
  {
   "cell_type": "code",
   "execution_count": 20,
   "metadata": {
    "ExecuteTime": {
     "end_time": "2022-08-28T19:04:15.120638Z",
     "start_time": "2022-08-28T19:04:15.061795Z"
    },
    "execution": {
     "iopub.execute_input": "2022-03-25T20:45:11.415243Z",
     "iopub.status.busy": "2022-03-25T20:45:11.414542Z",
     "iopub.status.idle": "2022-03-25T20:45:11.440072Z",
     "shell.execute_reply": "2022-03-25T20:45:11.438973Z",
     "shell.execute_reply.started": "2022-03-25T20:45:11.415196Z"
    }
   },
   "outputs": [
    {
     "data": {
      "text/html": [
       "<div>\n",
       "<style scoped>\n",
       "    .dataframe tbody tr th:only-of-type {\n",
       "        vertical-align: middle;\n",
       "    }\n",
       "\n",
       "    .dataframe tbody tr th {\n",
       "        vertical-align: top;\n",
       "    }\n",
       "\n",
       "    .dataframe thead th {\n",
       "        text-align: right;\n",
       "    }\n",
       "</style>\n",
       "<table border=\"1\" class=\"dataframe\">\n",
       "  <thead>\n",
       "    <tr style=\"text-align: right;\">\n",
       "      <th></th>\n",
       "      <th>INSURANCE_TYPE</th>\n",
       "      <th>OLD_PREMIUM_AMOUNT</th>\n",
       "      <th>OLD_PERSENTAGE</th>\n",
       "      <th>NEW_PREMIUM_AMOUNT</th>\n",
       "      <th>NEW_PERSENTAGE</th>\n",
       "    </tr>\n",
       "  </thead>\n",
       "  <tbody>\n",
       "    <tr>\n",
       "      <th>0</th>\n",
       "      <td>Health</td>\n",
       "      <td>168515.90</td>\n",
       "      <td>28.275425</td>\n",
       "      <td>180312.0130</td>\n",
       "      <td>29.479846</td>\n",
       "    </tr>\n",
       "    <tr>\n",
       "      <th>1</th>\n",
       "      <td>Life</td>\n",
       "      <td>85624.88</td>\n",
       "      <td>14.367071</td>\n",
       "      <td>87337.3776</td>\n",
       "      <td>14.279096</td>\n",
       "    </tr>\n",
       "    <tr>\n",
       "      <th>2</th>\n",
       "      <td>Mobile</td>\n",
       "      <td>10308.58</td>\n",
       "      <td>1.729685</td>\n",
       "      <td>9277.7220</td>\n",
       "      <td>1.516847</td>\n",
       "    </tr>\n",
       "    <tr>\n",
       "      <th>3</th>\n",
       "      <td>Motor</td>\n",
       "      <td>114052.48</td>\n",
       "      <td>19.136962</td>\n",
       "      <td>116333.5296</td>\n",
       "      <td>19.019779</td>\n",
       "    </tr>\n",
       "    <tr>\n",
       "      <th>4</th>\n",
       "      <td>Property</td>\n",
       "      <td>133258.61</td>\n",
       "      <td>22.359575</td>\n",
       "      <td>142586.7127</td>\n",
       "      <td>23.312004</td>\n",
       "    </tr>\n",
       "    <tr>\n",
       "      <th>5</th>\n",
       "      <td>Travel</td>\n",
       "      <td>84219.63</td>\n",
       "      <td>14.131283</td>\n",
       "      <td>75797.6670</td>\n",
       "      <td>12.392428</td>\n",
       "    </tr>\n",
       "  </tbody>\n",
       "</table>\n",
       "</div>"
      ],
      "text/plain": [
       "  INSURANCE_TYPE  OLD_PREMIUM_AMOUNT  OLD_PERSENTAGE  NEW_PREMIUM_AMOUNT  \\\n",
       "0         Health           168515.90       28.275425         180312.0130   \n",
       "1           Life            85624.88       14.367071          87337.3776   \n",
       "2         Mobile            10308.58        1.729685           9277.7220   \n",
       "3          Motor           114052.48       19.136962         116333.5296   \n",
       "4       Property           133258.61       22.359575         142586.7127   \n",
       "5         Travel            84219.63       14.131283          75797.6670   \n",
       "\n",
       "   NEW_PERSENTAGE  \n",
       "0       29.479846  \n",
       "1       14.279096  \n",
       "2        1.516847  \n",
       "3       19.019779  \n",
       "4       23.312004  \n",
       "5       12.392428  "
      ]
     },
     "execution_count": 20,
     "metadata": {},
     "output_type": "execute_result"
    }
   ],
   "source": [
    "new_premium['NEW_PREMIUM_AMOUNT'] = [(168515.90 + new_health_premium), (85624.88 + new_life_premium), (10308.58 - new_mobile_premium),\n",
    "                                    (114052.48 + new_motor_premium), (133258.61 + new_property_premium), (84219.63 - new_travel_premium)]\n",
    "\n",
    "new_total_premium = new_premium['NEW_PREMIUM_AMOUNT'].sum()\n",
    "\n",
    "new_premium['NEW_PERSENTAGE'] = (new_premium['NEW_PREMIUM_AMOUNT'] / new_total_premium) * 100\n",
    "\n",
    "new_premium"
   ]
  },
  {
   "cell_type": "markdown",
   "metadata": {},
   "source": [
    "### According to new premium structure,\n",
    "* Mobile and Travel insurance type hold 13.90% of total.\n",
    "* Health and Property insurance type hold 52.79% of total.\n",
    "* Life and Motor insurance type hold 33.29% of total.\n",
    "# --------------------------------------------------------------------------------------------------------------"
   ]
  },
  {
   "cell_type": "markdown",
   "metadata": {},
   "source": [
    "# Task 9 - \n",
    "## Business wants to give discount to customer who are loyal and under stress due to Covid 19. They have laid down an eligibility Criteria as, IF CUSTOMER_TENURE > 60 AND EMPLOYMENT_STATUS = “N” AND NO_OF_FAMILY_MEMBERS >=4 THEN 1 ELSE 0. Create a new column “ELIGIBLE_FOR_DISCOUNT” and find it mean."
   ]
  },
  {
   "cell_type": "code",
   "execution_count": 21,
   "metadata": {
    "ExecuteTime": {
     "end_time": "2022-08-28T19:04:15.167513Z",
     "start_time": "2022-08-28T19:04:15.123630Z"
    },
    "execution": {
     "iopub.execute_input": "2022-03-25T20:45:11.442013Z",
     "iopub.status.busy": "2022-03-25T20:45:11.441752Z",
     "iopub.status.idle": "2022-03-25T20:45:11.453885Z",
     "shell.execute_reply": "2022-03-25T20:45:11.453126Z",
     "shell.execute_reply.started": "2022-03-25T20:45:11.441982Z"
    }
   },
   "outputs": [
    {
     "data": {
      "text/html": [
       "<div>\n",
       "<style scoped>\n",
       "    .dataframe tbody tr th:only-of-type {\n",
       "        vertical-align: middle;\n",
       "    }\n",
       "\n",
       "    .dataframe tbody tr th {\n",
       "        vertical-align: top;\n",
       "    }\n",
       "\n",
       "    .dataframe thead th {\n",
       "        text-align: right;\n",
       "    }\n",
       "</style>\n",
       "<table border=\"1\" class=\"dataframe\">\n",
       "  <thead>\n",
       "    <tr style=\"text-align: right;\">\n",
       "      <th></th>\n",
       "      <th>TENURE</th>\n",
       "      <th>EMPLOYMENT_STATUS</th>\n",
       "      <th>NO_OF_FAMILY_MEMBERS</th>\n",
       "    </tr>\n",
       "  </thead>\n",
       "  <tbody>\n",
       "    <tr>\n",
       "      <th>0</th>\n",
       "      <td>39</td>\n",
       "      <td>Y</td>\n",
       "      <td>3</td>\n",
       "    </tr>\n",
       "    <tr>\n",
       "      <th>1</th>\n",
       "      <td>84</td>\n",
       "      <td>Y</td>\n",
       "      <td>6</td>\n",
       "    </tr>\n",
       "    <tr>\n",
       "      <th>2</th>\n",
       "      <td>91</td>\n",
       "      <td>Y</td>\n",
       "      <td>5</td>\n",
       "    </tr>\n",
       "    <tr>\n",
       "      <th>3</th>\n",
       "      <td>99</td>\n",
       "      <td>Y</td>\n",
       "      <td>7</td>\n",
       "    </tr>\n",
       "    <tr>\n",
       "      <th>4</th>\n",
       "      <td>109</td>\n",
       "      <td>Y</td>\n",
       "      <td>2</td>\n",
       "    </tr>\n",
       "  </tbody>\n",
       "</table>\n",
       "</div>"
      ],
      "text/plain": [
       "   TENURE EMPLOYMENT_STATUS  NO_OF_FAMILY_MEMBERS\n",
       "0      39                 Y                     3\n",
       "1      84                 Y                     6\n",
       "2      91                 Y                     5\n",
       "3      99                 Y                     7\n",
       "4     109                 Y                     2"
      ]
     },
     "execution_count": 21,
     "metadata": {},
     "output_type": "execute_result"
    }
   ],
   "source": [
    "loyal_customer = final_data[['TENURE','EMPLOYMENT_STATUS','NO_OF_FAMILY_MEMBERS']]\n",
    "\n",
    "loyal_customer.head()"
   ]
  },
  {
   "cell_type": "code",
   "execution_count": 22,
   "metadata": {
    "ExecuteTime": {
     "end_time": "2022-08-28T19:04:15.199433Z",
     "start_time": "2022-08-28T19:04:15.170504Z"
    },
    "execution": {
     "iopub.execute_input": "2022-03-25T20:45:11.455431Z",
     "iopub.status.busy": "2022-03-25T20:45:11.455203Z",
     "iopub.status.idle": "2022-03-25T20:45:11.481598Z",
     "shell.execute_reply": "2022-03-25T20:45:11.480914Z",
     "shell.execute_reply.started": "2022-03-25T20:45:11.455404Z"
    }
   },
   "outputs": [],
   "source": [
    "eligibal_criteria = [(final_data['TENURE'] > 60) & (final_data['EMPLOYMENT_STATUS'] == 'N') & (final_data['NO_OF_FAMILY_MEMBERS'] >= 4)]\n",
    "\n",
    "loyal_customer['ELIGIBAL_FOR_DISCOUNT'] = np.select(eligibal_criteria,value)"
   ]
  },
  {
   "cell_type": "code",
   "execution_count": 23,
   "metadata": {
    "ExecuteTime": {
     "end_time": "2022-08-28T19:04:15.249390Z",
     "start_time": "2022-08-28T19:04:15.209402Z"
    },
    "execution": {
     "iopub.execute_input": "2022-03-25T20:45:11.483719Z",
     "iopub.status.busy": "2022-03-25T20:45:11.482588Z",
     "iopub.status.idle": "2022-03-25T20:45:11.500529Z",
     "shell.execute_reply": "2022-03-25T20:45:11.499204Z",
     "shell.execute_reply.started": "2022-03-25T20:45:11.483672Z"
    }
   },
   "outputs": [
    {
     "name": "stdout",
     "output_type": "stream",
     "text": [
      "Eligibal customer mean :  0.03005181347150259\n"
     ]
    }
   ],
   "source": [
    "eligibal_mean = loyal_customer['ELIGIBAL_FOR_DISCOUNT'].mean()\n",
    "\n",
    "print('Eligibal customer mean : ', eligibal_mean)"
   ]
  },
  {
   "cell_type": "markdown",
   "metadata": {},
   "source": [
    "### From above data frame we can see that new column 'ELIGIBAL_FOR_DISCOUNT' is created as per condition. And mean is 0.030.\n",
    "# -------------------------------------------------------------------------------------------------------------"
   ]
  },
  {
   "cell_type": "markdown",
   "metadata": {},
   "source": [
    "# Task 10 -\n",
    "## Business wants to check Claim Velocity which is defined as follow            CLAIM_VELOCITY = NO_OF_CLAIMS_IN_LAST30DAYS (for the current insurance type) / NO_OF_CLAIMS_IN_LAST3DAYS (for the current insurance type). Note: LAST30DAYS & LAST3DAYS does not include current day"
   ]
  },
  {
   "cell_type": "code",
   "execution_count": 24,
   "metadata": {
    "ExecuteTime": {
     "end_time": "2022-08-28T19:04:15.294314Z",
     "start_time": "2022-08-28T19:04:15.260353Z"
    },
    "scrolled": false
   },
   "outputs": [],
   "source": [
    "df1 = insurance_data[(insurance_data['TXN_DATE_TIME'] >= '2021-06-01 00:00')\n",
    "                   & (insurance_data['TXN_DATE_TIME'] < '2021-06-31 00:00')]\n",
    "\n",
    "no_claims_30days = pd.DataFrame(df1.groupby(by = 'INSURANCE_TYPE', sort= True)['CLAIM_STATUS'].count().reset_index())"
   ]
  },
  {
   "cell_type": "code",
   "execution_count": 25,
   "metadata": {
    "ExecuteTime": {
     "end_time": "2022-08-28T19:04:15.458716Z",
     "start_time": "2022-08-28T19:04:15.302289Z"
    }
   },
   "outputs": [],
   "source": [
    "df2 = insurance_data[(insurance_data['TXN_DATE_TIME'] >= '2021-06-28 00:00')\n",
    "                   & (insurance_data['TXN_DATE_TIME'] < '2021-06-31 00:00')]\n",
    "\n",
    "no_claims_3days = pd.DataFrame(df2.groupby(by = 'INSURANCE_TYPE', sort= True)['CLAIM_STATUS'].count().reset_index())"
   ]
  },
  {
   "cell_type": "code",
   "execution_count": 26,
   "metadata": {
    "ExecuteTime": {
     "end_time": "2022-08-28T19:04:15.528407Z",
     "start_time": "2022-08-28T19:04:15.464736Z"
    }
   },
   "outputs": [
    {
     "data": {
      "text/html": [
       "<div>\n",
       "<style scoped>\n",
       "    .dataframe tbody tr th:only-of-type {\n",
       "        vertical-align: middle;\n",
       "    }\n",
       "\n",
       "    .dataframe tbody tr th {\n",
       "        vertical-align: top;\n",
       "    }\n",
       "\n",
       "    .dataframe thead th {\n",
       "        text-align: right;\n",
       "    }\n",
       "</style>\n",
       "<table border=\"1\" class=\"dataframe\">\n",
       "  <thead>\n",
       "    <tr style=\"text-align: right;\">\n",
       "      <th></th>\n",
       "      <th>INSURANCE_TYPE</th>\n",
       "      <th>LAST_3DAYS_COUNT</th>\n",
       "      <th>LAST_30DAYS_COUNT</th>\n",
       "      <th>CLAIM_VELOCITY</th>\n",
       "    </tr>\n",
       "  </thead>\n",
       "  <tbody>\n",
       "    <tr>\n",
       "      <th>0</th>\n",
       "      <td>Health</td>\n",
       "      <td>11</td>\n",
       "      <td>133</td>\n",
       "      <td>12.09</td>\n",
       "    </tr>\n",
       "    <tr>\n",
       "      <th>1</th>\n",
       "      <td>Life</td>\n",
       "      <td>15</td>\n",
       "      <td>143</td>\n",
       "      <td>9.53</td>\n",
       "    </tr>\n",
       "    <tr>\n",
       "      <th>2</th>\n",
       "      <td>Mobile</td>\n",
       "      <td>7</td>\n",
       "      <td>134</td>\n",
       "      <td>19.14</td>\n",
       "    </tr>\n",
       "    <tr>\n",
       "      <th>3</th>\n",
       "      <td>Motor</td>\n",
       "      <td>15</td>\n",
       "      <td>124</td>\n",
       "      <td>8.27</td>\n",
       "    </tr>\n",
       "    <tr>\n",
       "      <th>4</th>\n",
       "      <td>Property</td>\n",
       "      <td>13</td>\n",
       "      <td>126</td>\n",
       "      <td>9.69</td>\n",
       "    </tr>\n",
       "    <tr>\n",
       "      <th>5</th>\n",
       "      <td>Travel</td>\n",
       "      <td>15</td>\n",
       "      <td>124</td>\n",
       "      <td>8.27</td>\n",
       "    </tr>\n",
       "  </tbody>\n",
       "</table>\n",
       "</div>"
      ],
      "text/plain": [
       "  INSURANCE_TYPE  LAST_3DAYS_COUNT  LAST_30DAYS_COUNT  CLAIM_VELOCITY\n",
       "0         Health                11                133           12.09\n",
       "1           Life                15                143            9.53\n",
       "2         Mobile                 7                134           19.14\n",
       "3          Motor                15                124            8.27\n",
       "4       Property                13                126            9.69\n",
       "5         Travel                15                124            8.27"
      ]
     },
     "execution_count": 26,
     "metadata": {},
     "output_type": "execute_result"
    }
   ],
   "source": [
    "claim_velocity = pd.merge(right = no_claims_30days,\n",
    "                   left = no_claims_3days, \n",
    "                   right_on = 'INSURANCE_TYPE', \n",
    "                   left_on = 'INSURANCE_TYPE',\n",
    "                   how = \"inner\")\n",
    "\n",
    "claim_velocity.rename(columns= {'CLAIM_STATUS_x' : 'LAST_3DAYS_COUNT', 'CLAIM_STATUS_y' : 'LAST_30DAYS_COUNT'}, inplace= True)\n",
    "claim_velocity['CLAIM_VELOCITY'] = ((claim_velocity['LAST_30DAYS_COUNT']) / (claim_velocity['LAST_3DAYS_COUNT']))\n",
    "claim_velocity.round(2)"
   ]
  },
  {
   "cell_type": "markdown",
   "metadata": {},
   "source": [
    "# Task 11 - \n",
    "## Find all low performing agents i.e. employees who are in the bottom 5 percentile based on Claims worked by them."
   ]
  },
  {
   "cell_type": "code",
   "execution_count": 27,
   "metadata": {
    "ExecuteTime": {
     "end_time": "2022-08-28T19:04:15.576280Z",
     "start_time": "2022-08-28T19:04:15.532397Z"
    },
    "execution": {
     "iopub.execute_input": "2022-03-25T20:45:11.502750Z",
     "iopub.status.busy": "2022-03-25T20:45:11.501984Z",
     "iopub.status.idle": "2022-03-25T20:45:11.527729Z",
     "shell.execute_reply": "2022-03-25T20:45:11.526600Z",
     "shell.execute_reply.started": "2022-03-25T20:45:11.502691Z"
    }
   },
   "outputs": [
    {
     "data": {
      "text/plain": [
       "CLAIM_AMOUNT    2.0\n",
       "Name: 0.05, dtype: float64"
      ]
     },
     "execution_count": 27,
     "metadata": {},
     "output_type": "execute_result"
    }
   ],
   "source": [
    "low_performing_agent = pd.DataFrame(final_data.groupby(['AGENT_NAME'])['CLAIM_AMOUNT'].count().reset_index().\n",
    "                                    sort_values(['CLAIM_AMOUNT'],ascending=False))\n",
    "\n",
    "bottom_agent = low_performing_agent.quantile(0.05)\n",
    "\n",
    "bottom_agent"
   ]
  },
  {
   "cell_type": "markdown",
   "metadata": {},
   "source": [
    "### Agents whos claim amount is less than or equal to 2.0 are low performing agents."
   ]
  },
  {
   "cell_type": "code",
   "execution_count": 28,
   "metadata": {
    "ExecuteTime": {
     "end_time": "2022-08-28T19:04:15.608195Z",
     "start_time": "2022-08-28T19:04:15.583273Z"
    },
    "execution": {
     "iopub.execute_input": "2022-03-25T20:45:11.558232Z",
     "iopub.status.busy": "2022-03-25T20:45:11.557670Z",
     "iopub.status.idle": "2022-03-25T20:45:11.574285Z",
     "shell.execute_reply": "2022-03-25T20:45:11.573561Z",
     "shell.execute_reply.started": "2022-03-25T20:45:11.558185Z"
    }
   },
   "outputs": [
    {
     "data": {
      "text/html": [
       "<div>\n",
       "<style scoped>\n",
       "    .dataframe tbody tr th:only-of-type {\n",
       "        vertical-align: middle;\n",
       "    }\n",
       "\n",
       "    .dataframe tbody tr th {\n",
       "        vertical-align: top;\n",
       "    }\n",
       "\n",
       "    .dataframe thead th {\n",
       "        text-align: right;\n",
       "    }\n",
       "</style>\n",
       "<table border=\"1\" class=\"dataframe\">\n",
       "  <thead>\n",
       "    <tr style=\"text-align: right;\">\n",
       "      <th></th>\n",
       "      <th>AGENT_NAME</th>\n",
       "      <th>CLAIM_AMOUNT</th>\n",
       "    </tr>\n",
       "  </thead>\n",
       "  <tbody>\n",
       "    <tr>\n",
       "      <th>628</th>\n",
       "      <td>Keith Thomas</td>\n",
       "      <td>2</td>\n",
       "    </tr>\n",
       "    <tr>\n",
       "      <th>454</th>\n",
       "      <td>James Castlen</td>\n",
       "      <td>2</td>\n",
       "    </tr>\n",
       "    <tr>\n",
       "      <th>627</th>\n",
       "      <td>Keith Davis</td>\n",
       "      <td>2</td>\n",
       "    </tr>\n",
       "    <tr>\n",
       "      <th>612</th>\n",
       "      <td>Karen Brown</td>\n",
       "      <td>2</td>\n",
       "    </tr>\n",
       "    <tr>\n",
       "      <th>426</th>\n",
       "      <td>Heather Piper</td>\n",
       "      <td>2</td>\n",
       "    </tr>\n",
       "  </tbody>\n",
       "</table>\n",
       "</div>"
      ],
      "text/plain": [
       "        AGENT_NAME  CLAIM_AMOUNT\n",
       "628   Keith Thomas             2\n",
       "454  James Castlen             2\n",
       "627    Keith Davis             2\n",
       "612    Karen Brown             2\n",
       "426  Heather Piper             2"
      ]
     },
     "execution_count": 28,
     "metadata": {},
     "output_type": "execute_result"
    }
   ],
   "source": [
    "low_performing_agent = low_performing_agent[low_performing_agent['CLAIM_AMOUNT']  <= 2.0]\n",
    "\n",
    "low_performing_agent.head()"
   ]
  },
  {
   "cell_type": "markdown",
   "metadata": {},
   "source": [
    "# --------------------------------------------------------------------------------------------------------------"
   ]
  },
  {
   "cell_type": "markdown",
   "metadata": {},
   "source": [
    "# Task 12 - \n",
    "## Business wants to find all Suspicious Employees (Agents). IF TOTAL CLAIM AMOUNT which meet below criteria is >= 15000 THEN AGENT is classified as Suspicious ELSE Not CLAIM_STATUS = Approved AND CUSTOMER_RISK_SEGMENTATION = High AND INCIDENT_SEVERITY = “Major Loss” If Suspicious, then 1 ELSE 0. Find mean of this column."
   ]
  },
  {
   "cell_type": "code",
   "execution_count": 29,
   "metadata": {
    "ExecuteTime": {
     "end_time": "2022-08-28T19:04:15.640108Z",
     "start_time": "2022-08-28T19:04:15.612187Z"
    },
    "execution": {
     "iopub.execute_input": "2022-03-25T20:45:11.575823Z",
     "iopub.status.busy": "2022-03-25T20:45:11.575430Z",
     "iopub.status.idle": "2022-03-25T20:45:11.592307Z",
     "shell.execute_reply": "2022-03-25T20:45:11.591533Z",
     "shell.execute_reply.started": "2022-03-25T20:45:11.575784Z"
    }
   },
   "outputs": [],
   "source": [
    "suspicious_agent = final_data[['AGENT_NAME', 'CLAIM_AMOUNT', 'CLAIM_STATUS','RISK_SEGMENTATION','INCIDENT_SEVERITY']]\n",
    "\n",
    "suspicious_agent = suspicious_agent[(suspicious_agent['CLAIM_STATUS'] == 'A') & (suspicious_agent['RISK_SEGMENTATION'] == 'H') \n",
    "                                    & (suspicious_agent['INCIDENT_SEVERITY'] == 'Major Loss')]"
   ]
  },
  {
   "cell_type": "code",
   "execution_count": 30,
   "metadata": {
    "ExecuteTime": {
     "end_time": "2022-08-28T19:04:15.686763Z",
     "start_time": "2022-08-28T19:04:15.644103Z"
    },
    "execution": {
     "iopub.execute_input": "2022-03-25T20:45:11.624220Z",
     "iopub.status.busy": "2022-03-25T20:45:11.623589Z",
     "iopub.status.idle": "2022-03-25T20:45:11.653096Z",
     "shell.execute_reply": "2022-03-25T20:45:11.652160Z",
     "shell.execute_reply.started": "2022-03-25T20:45:11.624185Z"
    }
   },
   "outputs": [],
   "source": [
    "suspicious_criteria = [suspicious_agent['CLAIM_AMOUNT'] >= 15000]\n",
    "\n",
    "value = [1]\n",
    "\n",
    "suspicious_agent['SUSPICIOUS_AGENT'] = np.select(suspicious_criteria, value)"
   ]
  },
  {
   "cell_type": "code",
   "execution_count": 31,
   "metadata": {
    "ExecuteTime": {
     "end_time": "2022-08-28T19:04:15.718674Z",
     "start_time": "2022-08-28T19:04:15.692742Z"
    },
    "execution": {
     "iopub.execute_input": "2022-03-25T20:45:11.654810Z",
     "iopub.status.busy": "2022-03-25T20:45:11.654335Z",
     "iopub.status.idle": "2022-03-25T20:45:11.666459Z",
     "shell.execute_reply": "2022-03-25T20:45:11.665707Z",
     "shell.execute_reply.started": "2022-03-25T20:45:11.654763Z"
    }
   },
   "outputs": [
    {
     "name": "stdout",
     "output_type": "stream",
     "text": [
      "Suspicious agent mean :  0.3217993079584775\n"
     ]
    }
   ],
   "source": [
    "suspicious_mean = suspicious_agent['SUSPICIOUS_AGENT'].mean()\n",
    "\n",
    "print('Suspicious agent mean : ', suspicious_mean)"
   ]
  },
  {
   "cell_type": "markdown",
   "metadata": {},
   "source": [
    "### In above data frame we can see that new column is created as 'SUSPICIOUS_AGENT' as per given condition and mean is 0.321.\n",
    "# --------------------------------------------------------------------------------------------------------------"
   ]
  }
 ],
 "metadata": {
  "kernelspec": {
   "display_name": "Python 3",
   "language": "python",
   "name": "python3"
  },
  "language_info": {
   "codemirror_mode": {
    "name": "ipython",
    "version": 3
   },
   "file_extension": ".py",
   "mimetype": "text/x-python",
   "name": "python",
   "nbconvert_exporter": "python",
   "pygments_lexer": "ipython3",
   "version": "3.8.8"
  },
  "varInspector": {
   "cols": {
    "lenName": 16,
    "lenType": 16,
    "lenVar": 40
   },
   "kernels_config": {
    "python": {
     "delete_cmd_postfix": "",
     "delete_cmd_prefix": "del ",
     "library": "var_list.py",
     "varRefreshCmd": "print(var_dic_list())"
    },
    "r": {
     "delete_cmd_postfix": ") ",
     "delete_cmd_prefix": "rm(",
     "library": "var_list.r",
     "varRefreshCmd": "cat(var_dic_list()) "
    }
   },
   "types_to_exclude": [
    "module",
    "function",
    "builtin_function_or_method",
    "instance",
    "_Feature"
   ],
   "window_display": false
  }
 },
 "nbformat": 4,
 "nbformat_minor": 4
}
